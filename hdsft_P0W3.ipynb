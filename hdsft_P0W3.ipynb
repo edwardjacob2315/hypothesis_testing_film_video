{
 "cells": [
  {
   "cell_type": "markdown",
   "id": "683b2ed9-3aa5-46a8-8625-7fd8bc0c9a2e",
   "metadata": {
    "tags": []
   },
   "source": [
    "<font size=\"6\">**I.Perkenalan**</font>"
   ]
  },
  {
   "cell_type": "markdown",
   "id": "40982384-998f-4156-98f9-d1c34b16388a",
   "metadata": {},
   "source": [
    "Nama: Bintang Muhammad <br>\n",
    "Course: Data Science <br>\n",
    "Batch: 6 <br>\n"
   ]
  },
  {
   "cell_type": "markdown",
   "id": "19ffa696-b74b-44df-a0fc-f5314f07190a",
   "metadata": {
    "tags": []
   },
   "source": [
    "<font size=\"6\">**II.Import Library**</font>"
   ]
  },
  {
   "cell_type": "code",
   "execution_count": 4,
   "id": "343d662f-7f9d-40b6-bac4-c10b3a5d7445",
   "metadata": {},
   "outputs": [],
   "source": [
    "#import libraries\n",
    "\n",
    "import pandas as pd\n",
    "import numpy as np\n",
    "import sympy as sy\n",
    "import seaborn as sns\n",
    "import matplotlib.pyplot as plt\n",
    "from scipy import stats"
   ]
  },
  {
   "cell_type": "markdown",
   "id": "3df925d8-54cc-4e40-94c0-74f71b48ce18",
   "metadata": {
    "tags": []
   },
   "source": [
    "<font size=\"6\">**III.Data Loading**</font>"
   ]
  },
  {
   "cell_type": "code",
   "execution_count": 5,
   "id": "2f9b78a1-825b-4cc8-9790-2e74b1e39c49",
   "metadata": {},
   "outputs": [],
   "source": [
    "#original data\n",
    "df1=pd.read_csv('ks-projects-201801.csv')"
   ]
  },
  {
   "cell_type": "code",
   "execution_count": 6,
   "id": "b9016cec-7520-414d-b1e9-82f99f6ab6aa",
   "metadata": {},
   "outputs": [],
   "source": [
    "#create copy and new df\n",
    "df18=df1.copy().sort_values(by='launched',ascending=False).reset_index(drop=True)"
   ]
  },
  {
   "cell_type": "code",
   "execution_count": 10,
   "id": "745f9cd7-836e-4711-b3d9-c30cadabb794",
   "metadata": {},
   "outputs": [
    {
     "data": {
      "text/html": [
       "<div>\n",
       "<style scoped>\n",
       "    .dataframe tbody tr th:only-of-type {\n",
       "        vertical-align: middle;\n",
       "    }\n",
       "\n",
       "    .dataframe tbody tr th {\n",
       "        vertical-align: top;\n",
       "    }\n",
       "\n",
       "    .dataframe thead th {\n",
       "        text-align: right;\n",
       "    }\n",
       "</style>\n",
       "<table border=\"1\" class=\"dataframe\">\n",
       "  <thead>\n",
       "    <tr style=\"text-align: right;\">\n",
       "      <th></th>\n",
       "      <th>ID</th>\n",
       "      <th>name</th>\n",
       "      <th>category</th>\n",
       "      <th>main_category</th>\n",
       "      <th>currency</th>\n",
       "      <th>deadline</th>\n",
       "      <th>goal</th>\n",
       "      <th>launched</th>\n",
       "      <th>pledged</th>\n",
       "      <th>state</th>\n",
       "      <th>backers</th>\n",
       "      <th>country</th>\n",
       "      <th>usd pledged</th>\n",
       "      <th>usd_pledged_real</th>\n",
       "      <th>usd_goal_real</th>\n",
       "    </tr>\n",
       "  </thead>\n",
       "  <tbody>\n",
       "    <tr>\n",
       "      <th>0</th>\n",
       "      <td>1339173863</td>\n",
       "      <td>Spirits of the Forest</td>\n",
       "      <td>Tabletop Games</td>\n",
       "      <td>Games</td>\n",
       "      <td>EUR</td>\n",
       "      <td>2018-01-26</td>\n",
       "      <td>20000.0</td>\n",
       "      <td>2018-01-02 15:02:31</td>\n",
       "      <td>3694.0</td>\n",
       "      <td>live</td>\n",
       "      <td>82</td>\n",
       "      <td>ES</td>\n",
       "      <td>4435.93</td>\n",
       "      <td>4483.39</td>\n",
       "      <td>24273.91</td>\n",
       "    </tr>\n",
       "    <tr>\n",
       "      <th>1</th>\n",
       "      <td>1830173355</td>\n",
       "      <td>Digital Dagger Coin</td>\n",
       "      <td>Art</td>\n",
       "      <td>Art</td>\n",
       "      <td>USD</td>\n",
       "      <td>2018-02-01</td>\n",
       "      <td>650.0</td>\n",
       "      <td>2018-01-02 14:38:17</td>\n",
       "      <td>7.0</td>\n",
       "      <td>live</td>\n",
       "      <td>1</td>\n",
       "      <td>US</td>\n",
       "      <td>7.00</td>\n",
       "      <td>7.00</td>\n",
       "      <td>650.00</td>\n",
       "    </tr>\n",
       "    <tr>\n",
       "      <th>2</th>\n",
       "      <td>2106246194</td>\n",
       "      <td>Help save La Gattara, Arizona's first Cat Cafe!</td>\n",
       "      <td>Food</td>\n",
       "      <td>Food</td>\n",
       "      <td>USD</td>\n",
       "      <td>2018-01-16</td>\n",
       "      <td>10000.0</td>\n",
       "      <td>2018-01-02 14:17:46</td>\n",
       "      <td>165.0</td>\n",
       "      <td>live</td>\n",
       "      <td>3</td>\n",
       "      <td>US</td>\n",
       "      <td>165.00</td>\n",
       "      <td>165.00</td>\n",
       "      <td>10000.00</td>\n",
       "    </tr>\n",
       "    <tr>\n",
       "      <th>3</th>\n",
       "      <td>974738310</td>\n",
       "      <td>EVO Planner: The World's First Personalized Fl...</td>\n",
       "      <td>Product Design</td>\n",
       "      <td>Design</td>\n",
       "      <td>USD</td>\n",
       "      <td>2018-02-09</td>\n",
       "      <td>15000.0</td>\n",
       "      <td>2018-01-02 14:15:38</td>\n",
       "      <td>269.0</td>\n",
       "      <td>live</td>\n",
       "      <td>8</td>\n",
       "      <td>US</td>\n",
       "      <td>269.00</td>\n",
       "      <td>269.00</td>\n",
       "      <td>15000.00</td>\n",
       "    </tr>\n",
       "    <tr>\n",
       "      <th>4</th>\n",
       "      <td>1486845240</td>\n",
       "      <td>Americas Got Talent - Serious MAK</td>\n",
       "      <td>Hip-Hop</td>\n",
       "      <td>Music</td>\n",
       "      <td>USD</td>\n",
       "      <td>2018-01-16</td>\n",
       "      <td>500.0</td>\n",
       "      <td>2018-01-02 14:13:09</td>\n",
       "      <td>0.0</td>\n",
       "      <td>live</td>\n",
       "      <td>0</td>\n",
       "      <td>US</td>\n",
       "      <td>0.00</td>\n",
       "      <td>0.00</td>\n",
       "      <td>500.00</td>\n",
       "    </tr>\n",
       "  </tbody>\n",
       "</table>\n",
       "</div>"
      ],
      "text/plain": [
       "           ID                                               name  \\\n",
       "0  1339173863                              Spirits of the Forest   \n",
       "1  1830173355                                Digital Dagger Coin   \n",
       "2  2106246194    Help save La Gattara, Arizona's first Cat Cafe!   \n",
       "3   974738310  EVO Planner: The World's First Personalized Fl...   \n",
       "4  1486845240                  Americas Got Talent - Serious MAK   \n",
       "\n",
       "         category main_category currency    deadline     goal  \\\n",
       "0  Tabletop Games         Games      EUR  2018-01-26  20000.0   \n",
       "1             Art           Art      USD  2018-02-01    650.0   \n",
       "2            Food          Food      USD  2018-01-16  10000.0   \n",
       "3  Product Design        Design      USD  2018-02-09  15000.0   \n",
       "4         Hip-Hop         Music      USD  2018-01-16    500.0   \n",
       "\n",
       "              launched  pledged state  backers country  usd pledged  \\\n",
       "0  2018-01-02 15:02:31   3694.0  live       82      ES      4435.93   \n",
       "1  2018-01-02 14:38:17      7.0  live        1      US         7.00   \n",
       "2  2018-01-02 14:17:46    165.0  live        3      US       165.00   \n",
       "3  2018-01-02 14:15:38    269.0  live        8      US       269.00   \n",
       "4  2018-01-02 14:13:09      0.0  live        0      US         0.00   \n",
       "\n",
       "   usd_pledged_real  usd_goal_real  \n",
       "0           4483.39       24273.91  \n",
       "1              7.00         650.00  \n",
       "2            165.00       10000.00  \n",
       "3            269.00       15000.00  \n",
       "4              0.00         500.00  "
      ]
     },
     "execution_count": 10,
     "metadata": {},
     "output_type": "execute_result"
    }
   ],
   "source": [
    "#view data\n",
    "df18.head(5)"
   ]
  },
  {
   "cell_type": "code",
   "execution_count": 8,
   "id": "e1776903-f4be-4977-9e07-889b32176256",
   "metadata": {},
   "outputs": [
    {
     "data": {
      "text/plain": [
       "Index(['ID', 'name', 'category', 'main_category', 'currency', 'deadline',\n",
       "       'goal', 'launched', 'pledged', 'state', 'backers', 'country',\n",
       "       'usd pledged', 'usd_pledged_real', 'usd_goal_real'],\n",
       "      dtype='object')"
      ]
     },
     "execution_count": 8,
     "metadata": {},
     "output_type": "execute_result"
    }
   ],
   "source": [
    "df18.columns"
   ]
  },
  {
   "cell_type": "markdown",
   "id": "2ba20fef-b6ba-48a5-a1c0-25142973c27d",
   "metadata": {},
   "source": [
    "| Features | Description |\n",
    "|-----------|-----------|\n",
    "| ID: | ID of projects\n",
    "|name:| Name of Projects\n",
    "|category:| Category of projetcs\n",
    "|main_category:| Main category of projects\n",
    "|currency:| Currency used for funding the projects\n",
    "|deadline:| Deadline of funding the projects\n",
    "|goal:| Amount of money needed for the projects\n",
    "|launched:| Launching date of the projects\n",
    "|pledged:| Money pledged for the projects\n",
    "|state:| Project status\n",
    "|backers:| Number of people who fund the projects\n",
    "|country:| Country origin of the projects\n",
    "|usd pledged:| conversion in US dollars of the pledged column (conversion done by kickstarter).\n",
    "|usd_pledged_real:| usd pledge real: conversion in US dollars of the pledged column (conversion from Fixer.io API).\n",
    "|usd_goal_real:| conversion in US dollars of the goal column (conversion from Fixer.io API)."
   ]
  },
  {
   "cell_type": "markdown",
   "id": "a0c79c68-90f0-4ca0-93e0-ccfd39d21700",
   "metadata": {
    "jp-MarkdownHeadingCollapsed": true,
    "tags": []
   },
   "source": [
    "<font size=\"6\">**IV.Data Cleaning**</font>"
   ]
  },
  {
   "cell_type": "code",
   "execution_count": 207,
   "id": "caed0d23-7682-46bd-9297-0ae37b74a249",
   "metadata": {},
   "outputs": [
    {
     "name": "stdout",
     "output_type": "stream",
     "text": [
      "<class 'pandas.core.frame.DataFrame'>\n",
      "RangeIndex: 378661 entries, 0 to 378660\n",
      "Data columns (total 15 columns):\n",
      " #   Column            Non-Null Count   Dtype  \n",
      "---  ------            --------------   -----  \n",
      " 0   ID                378661 non-null  int64  \n",
      " 1   name              378657 non-null  object \n",
      " 2   category          378661 non-null  object \n",
      " 3   main_category     378661 non-null  object \n",
      " 4   currency          378661 non-null  object \n",
      " 5   deadline          378661 non-null  object \n",
      " 6   goal              378661 non-null  float64\n",
      " 7   launched          378661 non-null  object \n",
      " 8   pledged           378661 non-null  float64\n",
      " 9   state             378661 non-null  object \n",
      " 10  backers           378661 non-null  int64  \n",
      " 11  country           378661 non-null  object \n",
      " 12  usd pledged       374864 non-null  float64\n",
      " 13  usd_pledged_real  378661 non-null  float64\n",
      " 14  usd_goal_real     378661 non-null  float64\n",
      "dtypes: float64(5), int64(2), object(8)\n",
      "memory usage: 43.3+ MB\n"
     ]
    }
   ],
   "source": [
    "#view data\n",
    "df18.info()"
   ]
  },
  {
   "cell_type": "code",
   "execution_count": 208,
   "id": "a9043a8f-7e94-451b-88e7-1117e2dbdaaf",
   "metadata": {},
   "outputs": [
    {
     "data": {
      "text/plain": [
       "ID                     0\n",
       "name                   4\n",
       "category               0\n",
       "main_category          0\n",
       "currency               0\n",
       "deadline               0\n",
       "goal                   0\n",
       "launched               0\n",
       "pledged                0\n",
       "state                  0\n",
       "backers                0\n",
       "country                0\n",
       "usd pledged         3797\n",
       "usd_pledged_real       0\n",
       "usd_goal_real          0\n",
       "dtype: int64"
      ]
     },
     "execution_count": 244,
     "metadata": {},
     "output_type": "execute_result"
    }
   ],
   "source": [
    "#view null values\n",
    "df18.isna().sum()"
   ]
  },
  {
   "cell_type": "code",
   "execution_count": 209,
   "id": "633a4e8e-f444-443e-ae86-834a7d60fd82",
   "metadata": {},
   "outputs": [],
   "source": [
    "#drop null values\n",
    "df18=df18.dropna()"
   ]
  },
  {
   "cell_type": "code",
   "execution_count": 210,
   "id": "99c94a12-6cd5-462b-b2ad-cf37213c0f02",
   "metadata": {},
   "outputs": [
    {
     "data": {
      "text/plain": [
       "ID                  0\n",
       "name                0\n",
       "category            0\n",
       "main_category       0\n",
       "currency            0\n",
       "deadline            0\n",
       "goal                0\n",
       "launched            0\n",
       "pledged             0\n",
       "state               0\n",
       "backers             0\n",
       "country             0\n",
       "usd pledged         0\n",
       "usd_pledged_real    0\n",
       "usd_goal_real       0\n",
       "dtype: int64"
      ]
     },
     "execution_count": 246,
     "metadata": {},
     "output_type": "execute_result"
    }
   ],
   "source": [
    "#check null values again\n",
    "df18.isna().sum()"
   ]
  },
  {
   "cell_type": "code",
   "execution_count": 211,
   "id": "43d72fd8-134d-4186-ac9c-566f7fe65d63",
   "metadata": {},
   "outputs": [
    {
     "data": {
      "text/plain": [
       "0"
      ]
     },
     "execution_count": 247,
     "metadata": {},
     "output_type": "execute_result"
    }
   ],
   "source": [
    "# check duplicated rows\n",
    "\n",
    "df18.duplicated().sum()"
   ]
  },
  {
   "cell_type": "markdown",
   "id": "b04a786f-3aab-4bb0-b5af-12145fe2e342",
   "metadata": {},
   "source": [
    "- No duplicate rows in the data"
   ]
  },
  {
   "cell_type": "code",
   "execution_count": 212,
   "id": "a7a74182-c747-4c2b-92b5-2b6656f9e116",
   "metadata": {},
   "outputs": [
    {
     "data": {
      "text/html": [
       "<div>\n",
       "<style scoped>\n",
       "    .dataframe tbody tr th:only-of-type {\n",
       "        vertical-align: middle;\n",
       "    }\n",
       "\n",
       "    .dataframe tbody tr th {\n",
       "        vertical-align: top;\n",
       "    }\n",
       "\n",
       "    .dataframe thead th {\n",
       "        text-align: right;\n",
       "    }\n",
       "</style>\n",
       "<table border=\"1\" class=\"dataframe\">\n",
       "  <thead>\n",
       "    <tr style=\"text-align: right;\">\n",
       "      <th></th>\n",
       "      <th>ID</th>\n",
       "      <th>name</th>\n",
       "      <th>category</th>\n",
       "      <th>main_category</th>\n",
       "      <th>currency</th>\n",
       "      <th>deadline</th>\n",
       "      <th>goal</th>\n",
       "      <th>launched</th>\n",
       "      <th>pledged</th>\n",
       "      <th>state</th>\n",
       "      <th>backers</th>\n",
       "      <th>country</th>\n",
       "      <th>usd pledged</th>\n",
       "      <th>usd_pledged_real</th>\n",
       "      <th>usd_goal_real</th>\n",
       "    </tr>\n",
       "  </thead>\n",
       "  <tbody>\n",
       "    <tr>\n",
       "      <th>0</th>\n",
       "      <td>1339173863</td>\n",
       "      <td>Spirits of the Forest</td>\n",
       "      <td>Tabletop Games</td>\n",
       "      <td>Games</td>\n",
       "      <td>EUR</td>\n",
       "      <td>2018-01-26</td>\n",
       "      <td>20000.0</td>\n",
       "      <td>2018-01-02 15:02:31</td>\n",
       "      <td>3694.0</td>\n",
       "      <td>live</td>\n",
       "      <td>82</td>\n",
       "      <td>ES</td>\n",
       "      <td>4435.93</td>\n",
       "      <td>4483.39</td>\n",
       "      <td>24273.91</td>\n",
       "    </tr>\n",
       "    <tr>\n",
       "      <th>1</th>\n",
       "      <td>1830173355</td>\n",
       "      <td>Digital Dagger Coin</td>\n",
       "      <td>Art</td>\n",
       "      <td>Art</td>\n",
       "      <td>USD</td>\n",
       "      <td>2018-02-01</td>\n",
       "      <td>650.0</td>\n",
       "      <td>2018-01-02 14:38:17</td>\n",
       "      <td>7.0</td>\n",
       "      <td>live</td>\n",
       "      <td>1</td>\n",
       "      <td>US</td>\n",
       "      <td>7.00</td>\n",
       "      <td>7.00</td>\n",
       "      <td>650.00</td>\n",
       "    </tr>\n",
       "    <tr>\n",
       "      <th>2</th>\n",
       "      <td>2106246194</td>\n",
       "      <td>Help save La Gattara, Arizona's first Cat Cafe!</td>\n",
       "      <td>Food</td>\n",
       "      <td>Food</td>\n",
       "      <td>USD</td>\n",
       "      <td>2018-01-16</td>\n",
       "      <td>10000.0</td>\n",
       "      <td>2018-01-02 14:17:46</td>\n",
       "      <td>165.0</td>\n",
       "      <td>live</td>\n",
       "      <td>3</td>\n",
       "      <td>US</td>\n",
       "      <td>165.00</td>\n",
       "      <td>165.00</td>\n",
       "      <td>10000.00</td>\n",
       "    </tr>\n",
       "  </tbody>\n",
       "</table>\n",
       "</div>"
      ],
      "text/plain": [
       "           ID                                             name  \\\n",
       "0  1339173863                            Spirits of the Forest   \n",
       "1  1830173355                              Digital Dagger Coin   \n",
       "2  2106246194  Help save La Gattara, Arizona's first Cat Cafe!   \n",
       "\n",
       "         category main_category currency    deadline     goal  \\\n",
       "0  Tabletop Games         Games      EUR  2018-01-26  20000.0   \n",
       "1             Art           Art      USD  2018-02-01    650.0   \n",
       "2            Food          Food      USD  2018-01-16  10000.0   \n",
       "\n",
       "              launched  pledged state  backers country  usd pledged  \\\n",
       "0  2018-01-02 15:02:31   3694.0  live       82      ES      4435.93   \n",
       "1  2018-01-02 14:38:17      7.0  live        1      US         7.00   \n",
       "2  2018-01-02 14:17:46    165.0  live        3      US       165.00   \n",
       "\n",
       "   usd_pledged_real  usd_goal_real  \n",
       "0           4483.39       24273.91  \n",
       "1              7.00         650.00  \n",
       "2            165.00       10000.00  "
      ]
     },
     "execution_count": 248,
     "metadata": {},
     "output_type": "execute_result"
    }
   ],
   "source": [
    "df18.head(3)"
   ]
  },
  {
   "cell_type": "code",
   "execution_count": 213,
   "id": "47844fa7-f2ab-4f24-b3f6-a4eff30a6b7a",
   "metadata": {},
   "outputs": [],
   "source": [
    "#change data type\n",
    "\n",
    "df18=df18.astype({'deadline':'datetime64[ns]','launched':'datetime64[ns]'})"
   ]
  },
  {
   "cell_type": "code",
   "execution_count": 214,
   "id": "fdc78cd0-0896-4d62-af02-352097e5799d",
   "metadata": {},
   "outputs": [
    {
     "data": {
      "text/html": [
       "<div>\n",
       "<style scoped>\n",
       "    .dataframe tbody tr th:only-of-type {\n",
       "        vertical-align: middle;\n",
       "    }\n",
       "\n",
       "    .dataframe tbody tr th {\n",
       "        vertical-align: top;\n",
       "    }\n",
       "\n",
       "    .dataframe thead th {\n",
       "        text-align: right;\n",
       "    }\n",
       "</style>\n",
       "<table border=\"1\" class=\"dataframe\">\n",
       "  <thead>\n",
       "    <tr style=\"text-align: right;\">\n",
       "      <th></th>\n",
       "      <th>ID</th>\n",
       "      <th>name</th>\n",
       "      <th>category</th>\n",
       "      <th>main_category</th>\n",
       "      <th>currency</th>\n",
       "      <th>deadline</th>\n",
       "      <th>goal</th>\n",
       "      <th>launched</th>\n",
       "      <th>pledged</th>\n",
       "      <th>state</th>\n",
       "      <th>backers</th>\n",
       "      <th>country</th>\n",
       "      <th>usd pledged</th>\n",
       "      <th>usd_pledged_real</th>\n",
       "      <th>usd_goal_real</th>\n",
       "    </tr>\n",
       "  </thead>\n",
       "  <tbody>\n",
       "    <tr>\n",
       "      <th>378660</th>\n",
       "      <td>1384087152</td>\n",
       "      <td>\"ICHOR\"  (Canceled)</td>\n",
       "      <td>Film &amp; Video</td>\n",
       "      <td>Film &amp; Video</td>\n",
       "      <td>USD</td>\n",
       "      <td>2010-05-21</td>\n",
       "      <td>700.0</td>\n",
       "      <td>1970-01-01 01:00:00</td>\n",
       "      <td>0.0</td>\n",
       "      <td>canceled</td>\n",
       "      <td>0</td>\n",
       "      <td>US</td>\n",
       "      <td>0.0</td>\n",
       "      <td>0.0</td>\n",
       "      <td>700.00</td>\n",
       "    </tr>\n",
       "    <tr>\n",
       "      <th>378654</th>\n",
       "      <td>1245461087</td>\n",
       "      <td>1st Super-Size Painting - Social Network Owned...</td>\n",
       "      <td>Art</td>\n",
       "      <td>Art</td>\n",
       "      <td>USD</td>\n",
       "      <td>2010-08-14</td>\n",
       "      <td>15000.0</td>\n",
       "      <td>1970-01-01 01:00:00</td>\n",
       "      <td>0.0</td>\n",
       "      <td>canceled</td>\n",
       "      <td>0</td>\n",
       "      <td>US</td>\n",
       "      <td>0.0</td>\n",
       "      <td>0.0</td>\n",
       "      <td>15000.00</td>\n",
       "    </tr>\n",
       "    <tr>\n",
       "      <th>378655</th>\n",
       "      <td>1014746686</td>\n",
       "      <td>Salt of the Earth: A Dead Sea Movie (Canceled)</td>\n",
       "      <td>Film &amp; Video</td>\n",
       "      <td>Film &amp; Video</td>\n",
       "      <td>USD</td>\n",
       "      <td>2010-09-15</td>\n",
       "      <td>5000.0</td>\n",
       "      <td>1970-01-01 01:00:00</td>\n",
       "      <td>0.0</td>\n",
       "      <td>canceled</td>\n",
       "      <td>0</td>\n",
       "      <td>US</td>\n",
       "      <td>0.0</td>\n",
       "      <td>0.0</td>\n",
       "      <td>5000.00</td>\n",
       "    </tr>\n",
       "    <tr>\n",
       "      <th>378659</th>\n",
       "      <td>1480763647</td>\n",
       "      <td>Support Solo Theater! Help \"Ungrateful Daughte...</td>\n",
       "      <td>Theater</td>\n",
       "      <td>Theater</td>\n",
       "      <td>USD</td>\n",
       "      <td>2010-06-01</td>\n",
       "      <td>4000.0</td>\n",
       "      <td>1970-01-01 01:00:00</td>\n",
       "      <td>0.0</td>\n",
       "      <td>canceled</td>\n",
       "      <td>0</td>\n",
       "      <td>US</td>\n",
       "      <td>0.0</td>\n",
       "      <td>0.0</td>\n",
       "      <td>4000.00</td>\n",
       "    </tr>\n",
       "    <tr>\n",
       "      <th>378657</th>\n",
       "      <td>69489148</td>\n",
       "      <td>Student Auditions Music 2015</td>\n",
       "      <td>Publishing</td>\n",
       "      <td>Publishing</td>\n",
       "      <td>CHF</td>\n",
       "      <td>2015-10-31</td>\n",
       "      <td>1900.0</td>\n",
       "      <td>1970-01-01 01:00:00</td>\n",
       "      <td>0.0</td>\n",
       "      <td>suspended</td>\n",
       "      <td>0</td>\n",
       "      <td>CH</td>\n",
       "      <td>0.0</td>\n",
       "      <td>0.0</td>\n",
       "      <td>1905.97</td>\n",
       "    </tr>\n",
       "    <tr>\n",
       "      <th>378656</th>\n",
       "      <td>330942060</td>\n",
       "      <td>Help RIZ Make A Charity Album: 8 Songs, 8 Caus...</td>\n",
       "      <td>Music</td>\n",
       "      <td>Music</td>\n",
       "      <td>USD</td>\n",
       "      <td>2010-05-04</td>\n",
       "      <td>10000.0</td>\n",
       "      <td>1970-01-01 01:00:00</td>\n",
       "      <td>0.0</td>\n",
       "      <td>canceled</td>\n",
       "      <td>0</td>\n",
       "      <td>US</td>\n",
       "      <td>0.0</td>\n",
       "      <td>0.0</td>\n",
       "      <td>10000.00</td>\n",
       "    </tr>\n",
       "    <tr>\n",
       "      <th>378658</th>\n",
       "      <td>462917959</td>\n",
       "      <td>Identity Communications Infographic (Canceled)</td>\n",
       "      <td>Design</td>\n",
       "      <td>Design</td>\n",
       "      <td>USD</td>\n",
       "      <td>2010-04-10</td>\n",
       "      <td>500.0</td>\n",
       "      <td>1970-01-01 01:00:00</td>\n",
       "      <td>0.0</td>\n",
       "      <td>canceled</td>\n",
       "      <td>0</td>\n",
       "      <td>US</td>\n",
       "      <td>0.0</td>\n",
       "      <td>0.0</td>\n",
       "      <td>500.00</td>\n",
       "    </tr>\n",
       "    <tr>\n",
       "      <th>378653</th>\n",
       "      <td>1860890148</td>\n",
       "      <td>Grace Jones Does Not Give A F$#% T-Shirt (limi...</td>\n",
       "      <td>Fashion</td>\n",
       "      <td>Fashion</td>\n",
       "      <td>USD</td>\n",
       "      <td>2009-05-31</td>\n",
       "      <td>1000.0</td>\n",
       "      <td>2009-04-21 21:02:48</td>\n",
       "      <td>625.0</td>\n",
       "      <td>failed</td>\n",
       "      <td>30</td>\n",
       "      <td>US</td>\n",
       "      <td>625.0</td>\n",
       "      <td>625.0</td>\n",
       "      <td>1000.00</td>\n",
       "    </tr>\n",
       "    <tr>\n",
       "      <th>378652</th>\n",
       "      <td>709707365</td>\n",
       "      <td>CRYSTAL ANTLERS UNTITLED MOVIE</td>\n",
       "      <td>Shorts</td>\n",
       "      <td>Film &amp; Video</td>\n",
       "      <td>USD</td>\n",
       "      <td>2009-07-20</td>\n",
       "      <td>80000.0</td>\n",
       "      <td>2009-04-23 00:07:53</td>\n",
       "      <td>22.0</td>\n",
       "      <td>failed</td>\n",
       "      <td>3</td>\n",
       "      <td>US</td>\n",
       "      <td>22.0</td>\n",
       "      <td>22.0</td>\n",
       "      <td>80000.00</td>\n",
       "    </tr>\n",
       "    <tr>\n",
       "      <th>378651</th>\n",
       "      <td>1703704063</td>\n",
       "      <td>drawing for dollars</td>\n",
       "      <td>Illustration</td>\n",
       "      <td>Art</td>\n",
       "      <td>USD</td>\n",
       "      <td>2009-05-03</td>\n",
       "      <td>20.0</td>\n",
       "      <td>2009-04-24 21:52:03</td>\n",
       "      <td>35.0</td>\n",
       "      <td>successful</td>\n",
       "      <td>3</td>\n",
       "      <td>US</td>\n",
       "      <td>35.0</td>\n",
       "      <td>35.0</td>\n",
       "      <td>20.00</td>\n",
       "    </tr>\n",
       "  </tbody>\n",
       "</table>\n",
       "</div>"
      ],
      "text/plain": [
       "                ID                                               name  \\\n",
       "378660  1384087152                                \"ICHOR\"  (Canceled)   \n",
       "378654  1245461087  1st Super-Size Painting - Social Network Owned...   \n",
       "378655  1014746686     Salt of the Earth: A Dead Sea Movie (Canceled)   \n",
       "378659  1480763647  Support Solo Theater! Help \"Ungrateful Daughte...   \n",
       "378657    69489148                       Student Auditions Music 2015   \n",
       "378656   330942060  Help RIZ Make A Charity Album: 8 Songs, 8 Caus...   \n",
       "378658   462917959     Identity Communications Infographic (Canceled)   \n",
       "378653  1860890148  Grace Jones Does Not Give A F$#% T-Shirt (limi...   \n",
       "378652   709707365                     CRYSTAL ANTLERS UNTITLED MOVIE   \n",
       "378651  1703704063                                drawing for dollars   \n",
       "\n",
       "            category main_category currency   deadline     goal  \\\n",
       "378660  Film & Video  Film & Video      USD 2010-05-21    700.0   \n",
       "378654           Art           Art      USD 2010-08-14  15000.0   \n",
       "378655  Film & Video  Film & Video      USD 2010-09-15   5000.0   \n",
       "378659       Theater       Theater      USD 2010-06-01   4000.0   \n",
       "378657    Publishing    Publishing      CHF 2015-10-31   1900.0   \n",
       "378656         Music         Music      USD 2010-05-04  10000.0   \n",
       "378658        Design        Design      USD 2010-04-10    500.0   \n",
       "378653       Fashion       Fashion      USD 2009-05-31   1000.0   \n",
       "378652        Shorts  Film & Video      USD 2009-07-20  80000.0   \n",
       "378651  Illustration           Art      USD 2009-05-03     20.0   \n",
       "\n",
       "                  launched  pledged       state  backers country  usd pledged  \\\n",
       "378660 1970-01-01 01:00:00      0.0    canceled        0      US          0.0   \n",
       "378654 1970-01-01 01:00:00      0.0    canceled        0      US          0.0   \n",
       "378655 1970-01-01 01:00:00      0.0    canceled        0      US          0.0   \n",
       "378659 1970-01-01 01:00:00      0.0    canceled        0      US          0.0   \n",
       "378657 1970-01-01 01:00:00      0.0   suspended        0      CH          0.0   \n",
       "378656 1970-01-01 01:00:00      0.0    canceled        0      US          0.0   \n",
       "378658 1970-01-01 01:00:00      0.0    canceled        0      US          0.0   \n",
       "378653 2009-04-21 21:02:48    625.0      failed       30      US        625.0   \n",
       "378652 2009-04-23 00:07:53     22.0      failed        3      US         22.0   \n",
       "378651 2009-04-24 21:52:03     35.0  successful        3      US         35.0   \n",
       "\n",
       "        usd_pledged_real  usd_goal_real  \n",
       "378660               0.0         700.00  \n",
       "378654               0.0       15000.00  \n",
       "378655               0.0        5000.00  \n",
       "378659               0.0        4000.00  \n",
       "378657               0.0        1905.97  \n",
       "378656               0.0       10000.00  \n",
       "378658               0.0         500.00  \n",
       "378653             625.0        1000.00  \n",
       "378652              22.0       80000.00  \n",
       "378651              35.0          20.00  "
      ]
     },
     "execution_count": 250,
     "metadata": {},
     "output_type": "execute_result"
    }
   ],
   "source": [
    "#view data by date\n",
    "df18.sort_values(by='launched').head(10)"
   ]
  },
  {
   "cell_type": "markdown",
   "id": "cc32f606-897e-4d4f-8b1f-e815a600f7f8",
   "metadata": {},
   "source": [
    "- There is a projects that was launched on 1970, this is weird,since kickstarter is a Technology company, and at that time Technology does not have much.\n",
    "- Based on my search, kickstartetr was launched on 28th April 2009, so there is a possibility that if a project is before that is a fake/dummy.\n",
    "- But i'm going to assume that they have a project the launch date to 'interest' the market, so i'm just gonna delete the project before April 2009."
   ]
  },
  {
   "cell_type": "code",
   "execution_count": 215,
   "id": "b07e55b1-9029-40d7-b02f-71845513b77d",
   "metadata": {},
   "outputs": [],
   "source": [
    "#filter the data\n",
    "df18 = df18[(df18['launched']>= \"2009-04\")]"
   ]
  },
  {
   "cell_type": "code",
   "execution_count": 216,
   "id": "aa70770d-76f0-4db8-ab33-bd7a61be3573",
   "metadata": {},
   "outputs": [
    {
     "data": {
      "text/html": [
       "<div>\n",
       "<style scoped>\n",
       "    .dataframe tbody tr th:only-of-type {\n",
       "        vertical-align: middle;\n",
       "    }\n",
       "\n",
       "    .dataframe tbody tr th {\n",
       "        vertical-align: top;\n",
       "    }\n",
       "\n",
       "    .dataframe thead th {\n",
       "        text-align: right;\n",
       "    }\n",
       "</style>\n",
       "<table border=\"1\" class=\"dataframe\">\n",
       "  <thead>\n",
       "    <tr style=\"text-align: right;\">\n",
       "      <th></th>\n",
       "      <th>ID</th>\n",
       "      <th>name</th>\n",
       "      <th>category</th>\n",
       "      <th>main_category</th>\n",
       "      <th>currency</th>\n",
       "      <th>deadline</th>\n",
       "      <th>goal</th>\n",
       "      <th>launched</th>\n",
       "      <th>pledged</th>\n",
       "      <th>state</th>\n",
       "      <th>backers</th>\n",
       "      <th>country</th>\n",
       "      <th>usd pledged</th>\n",
       "      <th>usd_pledged_real</th>\n",
       "      <th>usd_goal_real</th>\n",
       "    </tr>\n",
       "  </thead>\n",
       "  <tbody>\n",
       "    <tr>\n",
       "      <th>378653</th>\n",
       "      <td>1860890148</td>\n",
       "      <td>Grace Jones Does Not Give A F$#% T-Shirt (limi...</td>\n",
       "      <td>Fashion</td>\n",
       "      <td>Fashion</td>\n",
       "      <td>USD</td>\n",
       "      <td>2009-05-31</td>\n",
       "      <td>1000.0</td>\n",
       "      <td>2009-04-21 21:02:48</td>\n",
       "      <td>625.0</td>\n",
       "      <td>failed</td>\n",
       "      <td>30</td>\n",
       "      <td>US</td>\n",
       "      <td>625.00</td>\n",
       "      <td>625.00</td>\n",
       "      <td>1000.00</td>\n",
       "    </tr>\n",
       "    <tr>\n",
       "      <th>378652</th>\n",
       "      <td>709707365</td>\n",
       "      <td>CRYSTAL ANTLERS UNTITLED MOVIE</td>\n",
       "      <td>Shorts</td>\n",
       "      <td>Film &amp; Video</td>\n",
       "      <td>USD</td>\n",
       "      <td>2009-07-20</td>\n",
       "      <td>80000.0</td>\n",
       "      <td>2009-04-23 00:07:53</td>\n",
       "      <td>22.0</td>\n",
       "      <td>failed</td>\n",
       "      <td>3</td>\n",
       "      <td>US</td>\n",
       "      <td>22.00</td>\n",
       "      <td>22.00</td>\n",
       "      <td>80000.00</td>\n",
       "    </tr>\n",
       "    <tr>\n",
       "      <th>378651</th>\n",
       "      <td>1703704063</td>\n",
       "      <td>drawing for dollars</td>\n",
       "      <td>Illustration</td>\n",
       "      <td>Art</td>\n",
       "      <td>USD</td>\n",
       "      <td>2009-05-03</td>\n",
       "      <td>20.0</td>\n",
       "      <td>2009-04-24 21:52:03</td>\n",
       "      <td>35.0</td>\n",
       "      <td>successful</td>\n",
       "      <td>3</td>\n",
       "      <td>US</td>\n",
       "      <td>35.00</td>\n",
       "      <td>35.00</td>\n",
       "      <td>20.00</td>\n",
       "    </tr>\n",
       "    <tr>\n",
       "      <th>378650</th>\n",
       "      <td>727286</td>\n",
       "      <td>Offline Wikipedia iPhone app</td>\n",
       "      <td>Software</td>\n",
       "      <td>Technology</td>\n",
       "      <td>USD</td>\n",
       "      <td>2009-07-14</td>\n",
       "      <td>99.0</td>\n",
       "      <td>2009-04-25 17:36:21</td>\n",
       "      <td>145.0</td>\n",
       "      <td>successful</td>\n",
       "      <td>25</td>\n",
       "      <td>US</td>\n",
       "      <td>145.00</td>\n",
       "      <td>145.00</td>\n",
       "      <td>99.00</td>\n",
       "    </tr>\n",
       "    <tr>\n",
       "      <th>378649</th>\n",
       "      <td>1622952265</td>\n",
       "      <td>Pantshirts</td>\n",
       "      <td>Fashion</td>\n",
       "      <td>Fashion</td>\n",
       "      <td>USD</td>\n",
       "      <td>2009-05-26</td>\n",
       "      <td>1900.0</td>\n",
       "      <td>2009-04-27 14:10:39</td>\n",
       "      <td>387.0</td>\n",
       "      <td>failed</td>\n",
       "      <td>10</td>\n",
       "      <td>US</td>\n",
       "      <td>387.00</td>\n",
       "      <td>387.00</td>\n",
       "      <td>1900.00</td>\n",
       "    </tr>\n",
       "    <tr>\n",
       "      <th>...</th>\n",
       "      <td>...</td>\n",
       "      <td>...</td>\n",
       "      <td>...</td>\n",
       "      <td>...</td>\n",
       "      <td>...</td>\n",
       "      <td>...</td>\n",
       "      <td>...</td>\n",
       "      <td>...</td>\n",
       "      <td>...</td>\n",
       "      <td>...</td>\n",
       "      <td>...</td>\n",
       "      <td>...</td>\n",
       "      <td>...</td>\n",
       "      <td>...</td>\n",
       "      <td>...</td>\n",
       "    </tr>\n",
       "    <tr>\n",
       "      <th>4</th>\n",
       "      <td>1486845240</td>\n",
       "      <td>Americas Got Talent - Serious MAK</td>\n",
       "      <td>Hip-Hop</td>\n",
       "      <td>Music</td>\n",
       "      <td>USD</td>\n",
       "      <td>2018-01-16</td>\n",
       "      <td>500.0</td>\n",
       "      <td>2018-01-02 14:13:09</td>\n",
       "      <td>0.0</td>\n",
       "      <td>live</td>\n",
       "      <td>0</td>\n",
       "      <td>US</td>\n",
       "      <td>0.00</td>\n",
       "      <td>0.00</td>\n",
       "      <td>500.00</td>\n",
       "    </tr>\n",
       "    <tr>\n",
       "      <th>3</th>\n",
       "      <td>974738310</td>\n",
       "      <td>EVO Planner: The World's First Personalized Fl...</td>\n",
       "      <td>Product Design</td>\n",
       "      <td>Design</td>\n",
       "      <td>USD</td>\n",
       "      <td>2018-02-09</td>\n",
       "      <td>15000.0</td>\n",
       "      <td>2018-01-02 14:15:38</td>\n",
       "      <td>269.0</td>\n",
       "      <td>live</td>\n",
       "      <td>8</td>\n",
       "      <td>US</td>\n",
       "      <td>269.00</td>\n",
       "      <td>269.00</td>\n",
       "      <td>15000.00</td>\n",
       "    </tr>\n",
       "    <tr>\n",
       "      <th>2</th>\n",
       "      <td>2106246194</td>\n",
       "      <td>Help save La Gattara, Arizona's first Cat Cafe!</td>\n",
       "      <td>Food</td>\n",
       "      <td>Food</td>\n",
       "      <td>USD</td>\n",
       "      <td>2018-01-16</td>\n",
       "      <td>10000.0</td>\n",
       "      <td>2018-01-02 14:17:46</td>\n",
       "      <td>165.0</td>\n",
       "      <td>live</td>\n",
       "      <td>3</td>\n",
       "      <td>US</td>\n",
       "      <td>165.00</td>\n",
       "      <td>165.00</td>\n",
       "      <td>10000.00</td>\n",
       "    </tr>\n",
       "    <tr>\n",
       "      <th>1</th>\n",
       "      <td>1830173355</td>\n",
       "      <td>Digital Dagger Coin</td>\n",
       "      <td>Art</td>\n",
       "      <td>Art</td>\n",
       "      <td>USD</td>\n",
       "      <td>2018-02-01</td>\n",
       "      <td>650.0</td>\n",
       "      <td>2018-01-02 14:38:17</td>\n",
       "      <td>7.0</td>\n",
       "      <td>live</td>\n",
       "      <td>1</td>\n",
       "      <td>US</td>\n",
       "      <td>7.00</td>\n",
       "      <td>7.00</td>\n",
       "      <td>650.00</td>\n",
       "    </tr>\n",
       "    <tr>\n",
       "      <th>0</th>\n",
       "      <td>1339173863</td>\n",
       "      <td>Spirits of the Forest</td>\n",
       "      <td>Tabletop Games</td>\n",
       "      <td>Games</td>\n",
       "      <td>EUR</td>\n",
       "      <td>2018-01-26</td>\n",
       "      <td>20000.0</td>\n",
       "      <td>2018-01-02 15:02:31</td>\n",
       "      <td>3694.0</td>\n",
       "      <td>live</td>\n",
       "      <td>82</td>\n",
       "      <td>ES</td>\n",
       "      <td>4435.93</td>\n",
       "      <td>4483.39</td>\n",
       "      <td>24273.91</td>\n",
       "    </tr>\n",
       "  </tbody>\n",
       "</table>\n",
       "<p>374853 rows × 15 columns</p>\n",
       "</div>"
      ],
      "text/plain": [
       "                ID                                               name  \\\n",
       "378653  1860890148  Grace Jones Does Not Give A F$#% T-Shirt (limi...   \n",
       "378652   709707365                     CRYSTAL ANTLERS UNTITLED MOVIE   \n",
       "378651  1703704063                                drawing for dollars   \n",
       "378650      727286                       Offline Wikipedia iPhone app   \n",
       "378649  1622952265                                         Pantshirts   \n",
       "...            ...                                                ...   \n",
       "4       1486845240                  Americas Got Talent - Serious MAK   \n",
       "3        974738310  EVO Planner: The World's First Personalized Fl...   \n",
       "2       2106246194    Help save La Gattara, Arizona's first Cat Cafe!   \n",
       "1       1830173355                                Digital Dagger Coin   \n",
       "0       1339173863                              Spirits of the Forest   \n",
       "\n",
       "              category main_category currency   deadline     goal  \\\n",
       "378653         Fashion       Fashion      USD 2009-05-31   1000.0   \n",
       "378652          Shorts  Film & Video      USD 2009-07-20  80000.0   \n",
       "378651    Illustration           Art      USD 2009-05-03     20.0   \n",
       "378650        Software    Technology      USD 2009-07-14     99.0   \n",
       "378649         Fashion       Fashion      USD 2009-05-26   1900.0   \n",
       "...                ...           ...      ...        ...      ...   \n",
       "4              Hip-Hop         Music      USD 2018-01-16    500.0   \n",
       "3       Product Design        Design      USD 2018-02-09  15000.0   \n",
       "2                 Food          Food      USD 2018-01-16  10000.0   \n",
       "1                  Art           Art      USD 2018-02-01    650.0   \n",
       "0       Tabletop Games         Games      EUR 2018-01-26  20000.0   \n",
       "\n",
       "                  launched  pledged       state  backers country  usd pledged  \\\n",
       "378653 2009-04-21 21:02:48    625.0      failed       30      US       625.00   \n",
       "378652 2009-04-23 00:07:53     22.0      failed        3      US        22.00   \n",
       "378651 2009-04-24 21:52:03     35.0  successful        3      US        35.00   \n",
       "378650 2009-04-25 17:36:21    145.0  successful       25      US       145.00   \n",
       "378649 2009-04-27 14:10:39    387.0      failed       10      US       387.00   \n",
       "...                    ...      ...         ...      ...     ...          ...   \n",
       "4      2018-01-02 14:13:09      0.0        live        0      US         0.00   \n",
       "3      2018-01-02 14:15:38    269.0        live        8      US       269.00   \n",
       "2      2018-01-02 14:17:46    165.0        live        3      US       165.00   \n",
       "1      2018-01-02 14:38:17      7.0        live        1      US         7.00   \n",
       "0      2018-01-02 15:02:31   3694.0        live       82      ES      4435.93   \n",
       "\n",
       "        usd_pledged_real  usd_goal_real  \n",
       "378653            625.00        1000.00  \n",
       "378652             22.00       80000.00  \n",
       "378651             35.00          20.00  \n",
       "378650            145.00          99.00  \n",
       "378649            387.00        1900.00  \n",
       "...                  ...            ...  \n",
       "4                   0.00         500.00  \n",
       "3                 269.00       15000.00  \n",
       "2                 165.00       10000.00  \n",
       "1                   7.00         650.00  \n",
       "0                4483.39       24273.91  \n",
       "\n",
       "[374853 rows x 15 columns]"
      ]
     },
     "execution_count": 252,
     "metadata": {},
     "output_type": "execute_result"
    }
   ],
   "source": [
    "#check data again\n",
    "df18.sort_values(by='launched',ascending=True)"
   ]
  },
  {
   "cell_type": "markdown",
   "id": "654d109a-436f-4afd-bcc6-3ec9bd8bfe63",
   "metadata": {
    "tags": []
   },
   "source": [
    "<font size=\"6\">**V.Data Exploration**</font>"
   ]
  },
  {
   "cell_type": "markdown",
   "id": "d0e78535-3e79-461c-ace0-4a29885882ab",
   "metadata": {},
   "source": [
    "**Looking at Outliers with boxplot**"
   ]
  },
  {
   "cell_type": "code",
   "execution_count": 217,
   "id": "725676af-34d6-434f-96c1-2d84ed8552f3",
   "metadata": {},
   "outputs": [
    {
     "data": {
      "image/png": "[encoded data removed]",
      "text/plain": [
       "<Figure size 864x360 with 3 Axes>"
      ]
     },
     "metadata": {
      "needs_background": "light"
     },
     "output_type": "display_data"
    }
   ],
   "source": [
    "#memisahkan kolom yang ingin dilihat\n",
    "nums=['usd_pledged_real','usd_goal_real','backers']\n",
    "\n",
    "#mengiterate box plot untuk melihat outliers\n",
    "plt.figure(figsize=(12, 5))\n",
    "for i in range(0, len(nums)):\n",
    "    plt.subplot(1, len(nums), i+1)\n",
    "    sns.boxplot(y=df18[nums[i]], orient='v')\n",
    "    plt.tight_layout()"
   ]
  },
  {
   "cell_type": "markdown",
   "id": "c10988fc-2547-426f-bb37-c20137469e5a",
   "metadata": {},
   "source": [
    "- Berdasarkan gambar boxplot, ketiga data memiliki outliers yang sangat banyak\n",
    "- Ketiga fitur ini seluruhnya positively skewed"
   ]
  },
  {
   "cell_type": "code",
   "execution_count": 218,
   "id": "4977dce3-cb2a-4c98-ae38-a1c13fe395a9",
   "metadata": {},
   "outputs": [],
   "source": [
    "#group data berdasarkan main category, menampilkan uang yg di pledged\n",
    "dfmc=df18.groupby(['main_category']).sum()[['usd_pledged_real']].sort_values(by='usd_pledged_real', ascending=False).reset_index()"
   ]
  },
  {
   "cell_type": "code",
   "execution_count": 219,
   "id": "2a7cf640-3adf-4a8f-bd97-171a861a9595",
   "metadata": {},
   "outputs": [
    {
     "data": {
      "text/html": [
       "<div>\n",
       "<style scoped>\n",
       "    .dataframe tbody tr th:only-of-type {\n",
       "        vertical-align: middle;\n",
       "    }\n",
       "\n",
       "    .dataframe tbody tr th {\n",
       "        vertical-align: top;\n",
       "    }\n",
       "\n",
       "    .dataframe thead th {\n",
       "        text-align: right;\n",
       "    }\n",
       "</style>\n",
       "<table border=\"1\" class=\"dataframe\">\n",
       "  <thead>\n",
       "    <tr style=\"text-align: right;\">\n",
       "      <th></th>\n",
       "      <th>main_category</th>\n",
       "      <th>usd_pledged_real</th>\n",
       "    </tr>\n",
       "  </thead>\n",
       "  <tbody>\n",
       "    <tr>\n",
       "      <th>0</th>\n",
       "      <td>Games</td>\n",
       "      <td>7.412726e+08</td>\n",
       "    </tr>\n",
       "    <tr>\n",
       "      <th>1</th>\n",
       "      <td>Design</td>\n",
       "      <td>7.342065e+08</td>\n",
       "    </tr>\n",
       "    <tr>\n",
       "      <th>2</th>\n",
       "      <td>Technology</td>\n",
       "      <td>6.860934e+08</td>\n",
       "    </tr>\n",
       "    <tr>\n",
       "      <th>3</th>\n",
       "      <td>Film &amp; Video</td>\n",
       "      <td>3.898561e+08</td>\n",
       "    </tr>\n",
       "    <tr>\n",
       "      <th>4</th>\n",
       "      <td>Music</td>\n",
       "      <td>1.937390e+08</td>\n",
       "    </tr>\n",
       "    <tr>\n",
       "      <th>5</th>\n",
       "      <td>Publishing</td>\n",
       "      <td>1.335201e+08</td>\n",
       "    </tr>\n",
       "    <tr>\n",
       "      <th>6</th>\n",
       "      <td>Fashion</td>\n",
       "      <td>1.303219e+08</td>\n",
       "    </tr>\n",
       "    <tr>\n",
       "      <th>7</th>\n",
       "      <td>Food</td>\n",
       "      <td>1.258062e+08</td>\n",
       "    </tr>\n",
       "    <tr>\n",
       "      <th>8</th>\n",
       "      <td>Art</td>\n",
       "      <td>9.068023e+07</td>\n",
       "    </tr>\n",
       "    <tr>\n",
       "      <th>9</th>\n",
       "      <td>Comics</td>\n",
       "      <td>7.151839e+07</td>\n",
       "    </tr>\n",
       "    <tr>\n",
       "      <th>10</th>\n",
       "      <td>Theater</td>\n",
       "      <td>4.371396e+07</td>\n",
       "    </tr>\n",
       "    <tr>\n",
       "      <th>11</th>\n",
       "      <td>Photography</td>\n",
       "      <td>3.850140e+07</td>\n",
       "    </tr>\n",
       "    <tr>\n",
       "      <th>12</th>\n",
       "      <td>Crafts</td>\n",
       "      <td>1.438428e+07</td>\n",
       "    </tr>\n",
       "    <tr>\n",
       "      <th>13</th>\n",
       "      <td>Dance</td>\n",
       "      <td>1.301050e+07</td>\n",
       "    </tr>\n",
       "    <tr>\n",
       "      <th>14</th>\n",
       "      <td>Journalism</td>\n",
       "      <td>1.243546e+07</td>\n",
       "    </tr>\n",
       "  </tbody>\n",
       "</table>\n",
       "</div>"
      ],
      "text/plain": [
       "   main_category  usd_pledged_real\n",
       "0          Games      7.412726e+08\n",
       "1         Design      7.342065e+08\n",
       "2     Technology      6.860934e+08\n",
       "3   Film & Video      3.898561e+08\n",
       "4          Music      1.937390e+08\n",
       "5     Publishing      1.335201e+08\n",
       "6        Fashion      1.303219e+08\n",
       "7           Food      1.258062e+08\n",
       "8            Art      9.068023e+07\n",
       "9         Comics      7.151839e+07\n",
       "10       Theater      4.371396e+07\n",
       "11   Photography      3.850140e+07\n",
       "12        Crafts      1.438428e+07\n",
       "13         Dance      1.301050e+07\n",
       "14    Journalism      1.243546e+07"
      ]
     },
     "execution_count": 255,
     "metadata": {},
     "output_type": "execute_result"
    }
   ],
   "source": [
    "#show data\n",
    "dfmc"
   ]
  },
  {
   "cell_type": "markdown",
   "id": "470a69a9-6dbd-4e2f-85c3-0373ee9dda50",
   "metadata": {},
   "source": [
    "- Top 3 Kategori yang nilai pledgednya paling banyak adalah Games, Design dan technology. \n",
    "- Top 3 Kategori yang nilai pledgednya paling sedikit adalah Journalism, Dance dan Crafts. "
   ]
  },
  {
   "cell_type": "code",
   "execution_count": 220,
   "id": "4c56c154-09ca-4d7f-a5cc-6e3640ca4abf",
   "metadata": {},
   "outputs": [],
   "source": [
    "#group data berdasarkan main category, menampilkan uang yg menjadi goal\n",
    "dfmcg=df18.groupby(['main_category']).sum()[['usd_goal_real']].sort_values(by='usd_goal_real', ascending=False).reset_index()"
   ]
  },
  {
   "cell_type": "code",
   "execution_count": 221,
   "id": "cc0b5c26-a635-4593-b390-056da881d367",
   "metadata": {},
   "outputs": [
    {
     "data": {
      "text/html": [
       "<div>\n",
       "<style scoped>\n",
       "    .dataframe tbody tr th:only-of-type {\n",
       "        vertical-align: middle;\n",
       "    }\n",
       "\n",
       "    .dataframe tbody tr th {\n",
       "        vertical-align: top;\n",
       "    }\n",
       "\n",
       "    .dataframe thead th {\n",
       "        text-align: right;\n",
       "    }\n",
       "</style>\n",
       "<table border=\"1\" class=\"dataframe\">\n",
       "  <thead>\n",
       "    <tr style=\"text-align: right;\">\n",
       "      <th></th>\n",
       "      <th>main_category</th>\n",
       "      <th>usd_goal_real</th>\n",
       "    </tr>\n",
       "  </thead>\n",
       "  <tbody>\n",
       "    <tr>\n",
       "      <th>0</th>\n",
       "      <td>Film &amp; Video</td>\n",
       "      <td>5.249833e+09</td>\n",
       "    </tr>\n",
       "    <tr>\n",
       "      <th>1</th>\n",
       "      <td>Technology</td>\n",
       "      <td>3.327914e+09</td>\n",
       "    </tr>\n",
       "    <tr>\n",
       "      <th>2</th>\n",
       "      <td>Games</td>\n",
       "      <td>1.582558e+09</td>\n",
       "    </tr>\n",
       "    <tr>\n",
       "      <th>3</th>\n",
       "      <td>Design</td>\n",
       "      <td>1.258992e+09</td>\n",
       "    </tr>\n",
       "    <tr>\n",
       "      <th>4</th>\n",
       "      <td>Food</td>\n",
       "      <td>1.206404e+09</td>\n",
       "    </tr>\n",
       "    <tr>\n",
       "      <th>5</th>\n",
       "      <td>Art</td>\n",
       "      <td>1.103508e+09</td>\n",
       "    </tr>\n",
       "    <tr>\n",
       "      <th>6</th>\n",
       "      <td>Publishing</td>\n",
       "      <td>9.866747e+08</td>\n",
       "    </tr>\n",
       "    <tr>\n",
       "      <th>7</th>\n",
       "      <td>Music</td>\n",
       "      <td>7.885631e+08</td>\n",
       "    </tr>\n",
       "    <tr>\n",
       "      <th>8</th>\n",
       "      <td>Fashion</td>\n",
       "      <td>5.112420e+08</td>\n",
       "    </tr>\n",
       "    <tr>\n",
       "      <th>9</th>\n",
       "      <td>Journalism</td>\n",
       "      <td>4.089290e+08</td>\n",
       "    </tr>\n",
       "    <tr>\n",
       "      <th>10</th>\n",
       "      <td>Theater</td>\n",
       "      <td>2.955859e+08</td>\n",
       "    </tr>\n",
       "    <tr>\n",
       "      <th>11</th>\n",
       "      <td>Comics</td>\n",
       "      <td>2.117433e+08</td>\n",
       "    </tr>\n",
       "    <tr>\n",
       "      <th>12</th>\n",
       "      <td>Photography</td>\n",
       "      <td>1.322236e+08</td>\n",
       "    </tr>\n",
       "    <tr>\n",
       "      <th>13</th>\n",
       "      <td>Crafts</td>\n",
       "      <td>9.191721e+07</td>\n",
       "    </tr>\n",
       "    <tr>\n",
       "      <th>14</th>\n",
       "      <td>Dance</td>\n",
       "      <td>3.608882e+07</td>\n",
       "    </tr>\n",
       "  </tbody>\n",
       "</table>\n",
       "</div>"
      ],
      "text/plain": [
       "   main_category  usd_goal_real\n",
       "0   Film & Video   5.249833e+09\n",
       "1     Technology   3.327914e+09\n",
       "2          Games   1.582558e+09\n",
       "3         Design   1.258992e+09\n",
       "4           Food   1.206404e+09\n",
       "5            Art   1.103508e+09\n",
       "6     Publishing   9.866747e+08\n",
       "7          Music   7.885631e+08\n",
       "8        Fashion   5.112420e+08\n",
       "9     Journalism   4.089290e+08\n",
       "10       Theater   2.955859e+08\n",
       "11        Comics   2.117433e+08\n",
       "12   Photography   1.322236e+08\n",
       "13        Crafts   9.191721e+07\n",
       "14         Dance   3.608882e+07"
      ]
     },
     "execution_count": 257,
     "metadata": {},
     "output_type": "execute_result"
    }
   ],
   "source": [
    "#show data\n",
    "dfmcg"
   ]
  },
  {
   "cell_type": "markdown",
   "id": "4c6720c9-823b-441a-96e1-6650d20c449d",
   "metadata": {},
   "source": [
    "- Top 3 Kategori yang nilai target goalnya paling banyak adalah Film & Video, technology dan games. \n",
    "- Top 3 Kategori yang nilai target goalnya paling sedikit adalah Dance , Fotografi dan Crafts. "
   ]
  },
  {
   "cell_type": "code",
   "execution_count": 222,
   "id": "a3e7f3c3-4306-42a3-b966-1848e573afcb",
   "metadata": {},
   "outputs": [
    {
     "data": {
      "text/html": [
       "<div>\n",
       "<style scoped>\n",
       "    .dataframe tbody tr th:only-of-type {\n",
       "        vertical-align: middle;\n",
       "    }\n",
       "\n",
       "    .dataframe tbody tr th {\n",
       "        vertical-align: top;\n",
       "    }\n",
       "\n",
       "    .dataframe thead th {\n",
       "        text-align: right;\n",
       "    }\n",
       "</style>\n",
       "<table border=\"1\" class=\"dataframe\">\n",
       "  <thead>\n",
       "    <tr style=\"text-align: right;\">\n",
       "      <th></th>\n",
       "      <th>ID</th>\n",
       "      <th>name</th>\n",
       "      <th>category</th>\n",
       "      <th>main_category</th>\n",
       "      <th>currency</th>\n",
       "      <th>deadline</th>\n",
       "      <th>goal</th>\n",
       "      <th>launched</th>\n",
       "      <th>pledged</th>\n",
       "      <th>state</th>\n",
       "      <th>backers</th>\n",
       "      <th>country</th>\n",
       "      <th>usd pledged</th>\n",
       "      <th>usd_pledged_real</th>\n",
       "      <th>usd_goal_real</th>\n",
       "    </tr>\n",
       "  </thead>\n",
       "  <tbody>\n",
       "    <tr>\n",
       "      <th>173771</th>\n",
       "      <td>1799979574</td>\n",
       "      <td>Pebble Time - Awesome Smartwatch, No Compromises</td>\n",
       "      <td>Product Design</td>\n",
       "      <td>Design</td>\n",
       "      <td>USD</td>\n",
       "      <td>2015-03-28</td>\n",
       "      <td>500000.0</td>\n",
       "      <td>2015-02-24 15:44:42</td>\n",
       "      <td>20338986.27</td>\n",
       "      <td>successful</td>\n",
       "      <td>78471</td>\n",
       "      <td>US</td>\n",
       "      <td>20338986.27</td>\n",
       "      <td>20338986.27</td>\n",
       "      <td>500000.0</td>\n",
       "    </tr>\n",
       "    <tr>\n",
       "      <th>227323</th>\n",
       "      <td>342886736</td>\n",
       "      <td>COOLEST COOLER: 21st Century Cooler that's Act...</td>\n",
       "      <td>Product Design</td>\n",
       "      <td>Design</td>\n",
       "      <td>USD</td>\n",
       "      <td>2014-08-30</td>\n",
       "      <td>50000.0</td>\n",
       "      <td>2014-07-08 10:14:37</td>\n",
       "      <td>13285226.36</td>\n",
       "      <td>successful</td>\n",
       "      <td>62642</td>\n",
       "      <td>US</td>\n",
       "      <td>13285226.36</td>\n",
       "      <td>13285226.36</td>\n",
       "      <td>50000.0</td>\n",
       "    </tr>\n",
       "    <tr>\n",
       "      <th>84150</th>\n",
       "      <td>2103598555</td>\n",
       "      <td>Pebble 2, Time 2 + All-New Pebble Core</td>\n",
       "      <td>Product Design</td>\n",
       "      <td>Design</td>\n",
       "      <td>USD</td>\n",
       "      <td>2016-06-30</td>\n",
       "      <td>1000000.0</td>\n",
       "      <td>2016-05-24 15:49:52</td>\n",
       "      <td>12779843.49</td>\n",
       "      <td>successful</td>\n",
       "      <td>66673</td>\n",
       "      <td>US</td>\n",
       "      <td>12779843.49</td>\n",
       "      <td>12779843.49</td>\n",
       "      <td>1000000.0</td>\n",
       "    </tr>\n",
       "    <tr>\n",
       "      <th>56377</th>\n",
       "      <td>545070200</td>\n",
       "      <td>Kingdom Death: Monster 1.5</td>\n",
       "      <td>Tabletop Games</td>\n",
       "      <td>Games</td>\n",
       "      <td>USD</td>\n",
       "      <td>2017-01-08</td>\n",
       "      <td>100000.0</td>\n",
       "      <td>2016-11-25 06:01:41</td>\n",
       "      <td>12393139.69</td>\n",
       "      <td>successful</td>\n",
       "      <td>19264</td>\n",
       "      <td>US</td>\n",
       "      <td>5228482.00</td>\n",
       "      <td>12393139.69</td>\n",
       "      <td>100000.0</td>\n",
       "    </tr>\n",
       "    <tr>\n",
       "      <th>328901</th>\n",
       "      <td>506924864</td>\n",
       "      <td>Pebble: E-Paper Watch for iPhone and Android</td>\n",
       "      <td>Product Design</td>\n",
       "      <td>Design</td>\n",
       "      <td>USD</td>\n",
       "      <td>2012-05-19</td>\n",
       "      <td>100000.0</td>\n",
       "      <td>2012-04-11 06:59:04</td>\n",
       "      <td>10266845.74</td>\n",
       "      <td>successful</td>\n",
       "      <td>68929</td>\n",
       "      <td>US</td>\n",
       "      <td>10266845.74</td>\n",
       "      <td>10266845.74</td>\n",
       "      <td>100000.0</td>\n",
       "    </tr>\n",
       "  </tbody>\n",
       "</table>\n",
       "</div>"
      ],
      "text/plain": [
       "                ID                                               name  \\\n",
       "173771  1799979574   Pebble Time - Awesome Smartwatch, No Compromises   \n",
       "227323   342886736  COOLEST COOLER: 21st Century Cooler that's Act...   \n",
       "84150   2103598555             Pebble 2, Time 2 + All-New Pebble Core   \n",
       "56377    545070200                         Kingdom Death: Monster 1.5   \n",
       "328901   506924864       Pebble: E-Paper Watch for iPhone and Android   \n",
       "\n",
       "              category main_category currency   deadline       goal  \\\n",
       "173771  Product Design        Design      USD 2015-03-28   500000.0   \n",
       "227323  Product Design        Design      USD 2014-08-30    50000.0   \n",
       "84150   Product Design        Design      USD 2016-06-30  1000000.0   \n",
       "56377   Tabletop Games         Games      USD 2017-01-08   100000.0   \n",
       "328901  Product Design        Design      USD 2012-05-19   100000.0   \n",
       "\n",
       "                  launched      pledged       state  backers country  \\\n",
       "173771 2015-02-24 15:44:42  20338986.27  successful    78471      US   \n",
       "227323 2014-07-08 10:14:37  13285226.36  successful    62642      US   \n",
       "84150  2016-05-24 15:49:52  12779843.49  successful    66673      US   \n",
       "56377  2016-11-25 06:01:41  12393139.69  successful    19264      US   \n",
       "328901 2012-04-11 06:59:04  10266845.74  successful    68929      US   \n",
       "\n",
       "        usd pledged  usd_pledged_real  usd_goal_real  \n",
       "173771  20338986.27       20338986.27       500000.0  \n",
       "227323  13285226.36       13285226.36        50000.0  \n",
       "84150   12779843.49       12779843.49      1000000.0  \n",
       "56377    5228482.00       12393139.69       100000.0  \n",
       "328901  10266845.74       10266845.74       100000.0  "
      ]
     },
     "execution_count": 258,
     "metadata": {},
     "output_type": "execute_result"
    }
   ],
   "source": [
    "#filter project yang hanya berasal dari Amerika serikat berdasarkan nilai pledge paling tingg\n",
    "dfus=df18[(df18['country']=='US')].sort_values('usd_pledged_real', ascending=False)\n",
    "\n",
    "#view data\n",
    "dfus.head()"
   ]
  },
  {
   "cell_type": "markdown",
   "id": "07c664e9-4db2-434c-aa44-b93b101bf9c4",
   "metadata": {},
   "source": [
    "- Top 5 project berdasarkan usd pledged real di US semuanya berstatus sukses\n",
    "- Top 5 ini memiliki kategori utama desain dan game\n",
    "- Top 5 ini memiliki kateori product design dan tabletop games"
   ]
  },
  {
   "cell_type": "code",
   "execution_count": 223,
   "id": "a98272ef-ebb3-4070-a303-225a553eadf3",
   "metadata": {},
   "outputs": [
    {
     "data": {
      "text/html": [
       "<div>\n",
       "<style scoped>\n",
       "    .dataframe tbody tr th:only-of-type {\n",
       "        vertical-align: middle;\n",
       "    }\n",
       "\n",
       "    .dataframe tbody tr th {\n",
       "        vertical-align: top;\n",
       "    }\n",
       "\n",
       "    .dataframe thead th {\n",
       "        text-align: right;\n",
       "    }\n",
       "</style>\n",
       "<table border=\"1\" class=\"dataframe\">\n",
       "  <thead>\n",
       "    <tr style=\"text-align: right;\">\n",
       "      <th></th>\n",
       "      <th>ID</th>\n",
       "      <th>name</th>\n",
       "      <th>category</th>\n",
       "      <th>main_category</th>\n",
       "      <th>currency</th>\n",
       "      <th>deadline</th>\n",
       "      <th>goal</th>\n",
       "      <th>launched</th>\n",
       "      <th>pledged</th>\n",
       "      <th>state</th>\n",
       "      <th>backers</th>\n",
       "      <th>country</th>\n",
       "      <th>usd pledged</th>\n",
       "      <th>usd_pledged_real</th>\n",
       "      <th>usd_goal_real</th>\n",
       "    </tr>\n",
       "  </thead>\n",
       "  <tbody>\n",
       "    <tr>\n",
       "      <th>90099</th>\n",
       "      <td>606910105</td>\n",
       "      <td>Dark Souls™ - The Board Game</td>\n",
       "      <td>Tabletop Games</td>\n",
       "      <td>Games</td>\n",
       "      <td>GBP</td>\n",
       "      <td>2016-05-16</td>\n",
       "      <td>50000.0</td>\n",
       "      <td>2016-04-19 20:59:32</td>\n",
       "      <td>3771474.81</td>\n",
       "      <td>successful</td>\n",
       "      <td>31178</td>\n",
       "      <td>GB</td>\n",
       "      <td>5342789.07</td>\n",
       "      <td>5494492.81</td>\n",
       "      <td>72842.76</td>\n",
       "    </tr>\n",
       "    <tr>\n",
       "      <th>57716</th>\n",
       "      <td>1009661017</td>\n",
       "      <td>Redefining Italian Luxury Watches - Filippo Lo...</td>\n",
       "      <td>Design</td>\n",
       "      <td>Design</td>\n",
       "      <td>EUR</td>\n",
       "      <td>2016-12-16</td>\n",
       "      <td>20000.0</td>\n",
       "      <td>2016-11-16 21:00:44</td>\n",
       "      <td>4809548.00</td>\n",
       "      <td>successful</td>\n",
       "      <td>18550</td>\n",
       "      <td>NL</td>\n",
       "      <td>239150.72</td>\n",
       "      <td>5020667.05</td>\n",
       "      <td>20877.92</td>\n",
       "    </tr>\n",
       "    <tr>\n",
       "      <th>9435</th>\n",
       "      <td>632311551</td>\n",
       "      <td>Join The Luxury Watch Revolution - Filippo Loreti</td>\n",
       "      <td>Design</td>\n",
       "      <td>Design</td>\n",
       "      <td>EUR</td>\n",
       "      <td>2017-11-19</td>\n",
       "      <td>20000.0</td>\n",
       "      <td>2017-10-19 00:51:24</td>\n",
       "      <td>3534663.91</td>\n",
       "      <td>successful</td>\n",
       "      <td>16077</td>\n",
       "      <td>NL</td>\n",
       "      <td>707422.67</td>\n",
       "      <td>4198137.57</td>\n",
       "      <td>23754.10</td>\n",
       "    </tr>\n",
       "    <tr>\n",
       "      <th>24461</th>\n",
       "      <td>1413580257</td>\n",
       "      <td>Amabrush - World's First Automatic Toothbrush</td>\n",
       "      <td>Product Design</td>\n",
       "      <td>Design</td>\n",
       "      <td>EUR</td>\n",
       "      <td>2017-08-05</td>\n",
       "      <td>50000.0</td>\n",
       "      <td>2017-07-05 16:20:11</td>\n",
       "      <td>3198516.10</td>\n",
       "      <td>successful</td>\n",
       "      <td>26832</td>\n",
       "      <td>AT</td>\n",
       "      <td>74963.66</td>\n",
       "      <td>3763048.66</td>\n",
       "      <td>58824.91</td>\n",
       "    </tr>\n",
       "    <tr>\n",
       "      <th>192064</th>\n",
       "      <td>499322084</td>\n",
       "      <td>ZANO - Autonomous. Intelligent. Swarming. Nano...</td>\n",
       "      <td>Technology</td>\n",
       "      <td>Technology</td>\n",
       "      <td>GBP</td>\n",
       "      <td>2015-01-08</td>\n",
       "      <td>125000.0</td>\n",
       "      <td>2014-11-24 16:38:38</td>\n",
       "      <td>2335119.61</td>\n",
       "      <td>successful</td>\n",
       "      <td>12075</td>\n",
       "      <td>GB</td>\n",
       "      <td>3656617.53</td>\n",
       "      <td>3536988.20</td>\n",
       "      <td>189336.56</td>\n",
       "    </tr>\n",
       "  </tbody>\n",
       "</table>\n",
       "</div>"
      ],
      "text/plain": [
       "                ID                                               name  \\\n",
       "90099    606910105                       Dark Souls™ - The Board Game   \n",
       "57716   1009661017  Redefining Italian Luxury Watches - Filippo Lo...   \n",
       "9435     632311551  Join The Luxury Watch Revolution - Filippo Loreti   \n",
       "24461   1413580257      Amabrush - World's First Automatic Toothbrush   \n",
       "192064   499322084  ZANO - Autonomous. Intelligent. Swarming. Nano...   \n",
       "\n",
       "              category main_category currency   deadline      goal  \\\n",
       "90099   Tabletop Games         Games      GBP 2016-05-16   50000.0   \n",
       "57716           Design        Design      EUR 2016-12-16   20000.0   \n",
       "9435            Design        Design      EUR 2017-11-19   20000.0   \n",
       "24461   Product Design        Design      EUR 2017-08-05   50000.0   \n",
       "192064      Technology    Technology      GBP 2015-01-08  125000.0   \n",
       "\n",
       "                  launched     pledged       state  backers country  \\\n",
       "90099  2016-04-19 20:59:32  3771474.81  successful    31178      GB   \n",
       "57716  2016-11-16 21:00:44  4809548.00  successful    18550      NL   \n",
       "9435   2017-10-19 00:51:24  3534663.91  successful    16077      NL   \n",
       "24461  2017-07-05 16:20:11  3198516.10  successful    26832      AT   \n",
       "192064 2014-11-24 16:38:38  2335119.61  successful    12075      GB   \n",
       "\n",
       "        usd pledged  usd_pledged_real  usd_goal_real  \n",
       "90099    5342789.07        5494492.81       72842.76  \n",
       "57716     239150.72        5020667.05       20877.92  \n",
       "9435      707422.67        4198137.57       23754.10  \n",
       "24461      74963.66        3763048.66       58824.91  \n",
       "192064   3656617.53        3536988.20      189336.56  "
      ]
     },
     "execution_count": 259,
     "metadata": {},
     "output_type": "execute_result"
    }
   ],
   "source": [
    "#filter project yang bersaal dari selain Amerika serikat\n",
    "dfnous=df18[(df18['country']!='US')].sort_values('usd_pledged_real', ascending=False)\n",
    "\n",
    "#view data\n",
    "dfnous.head()"
   ]
  },
  {
   "cell_type": "markdown",
   "id": "85a04273-c2d3-4c28-8bdc-3b962a18b5a3",
   "metadata": {},
   "source": [
    "- Top 5 project berdasarkan usd pledged real di non US semuanya berstatus sukses\n",
    "- Top 5 ini memiliki kategori utama desain, technology dan game\n",
    "- Top 5 ini memiliki kategori product design,design, technology dan tabletop games"
   ]
  },
  {
   "cell_type": "markdown",
   "id": "57f63b53-e890-4151-9b3f-635874796309",
   "metadata": {
    "tags": []
   },
   "source": [
    "<font size=\"6\">**VI.Measure of Central Tendency**</font>"
   ]
  },
  {
   "cell_type": "markdown",
   "id": "06bb4709-12e4-41c4-96f8-6ce55755e49c",
   "metadata": {
    "tags": []
   },
   "source": [
    "**Modus**"
   ]
  },
  {
   "cell_type": "code",
   "execution_count": 224,
   "id": "e7c430d2-e8f3-4558-816e-1bd5212fe277",
   "metadata": {},
   "outputs": [
    {
     "name": "stdout",
     "output_type": "stream",
     "text": [
      "0    Product Design\n",
      "dtype: object\n",
      "0    Film & Video\n",
      "dtype: object\n",
      "0    failed\n",
      "dtype: object\n",
      "0    US\n",
      "dtype: object\n",
      "0    USD\n",
      "dtype: object\n"
     ]
    }
   ],
   "source": [
    "#count mode for category, main category, state, country, currency\n",
    "print(df18['category'].mode())\n",
    "print(df18['main_category'].mode())\n",
    "print(df18['state'].mode())\n",
    "print(df18['country'].mode())\n",
    "print(df18['currency'].mode())"
   ]
  },
  {
   "cell_type": "markdown",
   "id": "5056a6fd-220d-4a98-b44a-0afccb871982",
   "metadata": {},
   "source": [
    "- Kategori dari project paling banyak muncul adalah kategori product design\n",
    "- Kategori utama dari project paling banyak muncul adalah kategori Film dan Video\n",
    "- Status dari project project sebagian besar banyak yang gagal\n",
    "- Negara dimana asal project sebagian besar berasal dari Amerika Serikat\n",
    "- Mata Uang yang digunakan untuk memberikan dana kepada project kebanayak bermata uang Dollar"
   ]
  },
  {
   "cell_type": "markdown",
   "id": "cb463ba0-719d-4dd9-9249-ddb48386cdd7",
   "metadata": {},
   "source": [
    "**Mean**"
   ]
  },
  {
   "cell_type": "code",
   "execution_count": 225,
   "id": "e5c55d34-8bf8-4cd9-b052-09bdd55dd747",
   "metadata": {},
   "outputs": [
    {
     "name": "stdout",
     "output_type": "stream",
     "text": [
      "9121.068872492002\n",
      "45863.783429130606\n",
      "106.69035862057926\n"
     ]
    }
   ],
   "source": [
    "#count mean for pledged money, goal money and backers\n",
    "print(df18['usd_pledged_real'].mean())\n",
    "print(df18['usd_goal_real'].mean())\n",
    "print(df18['backers'].mean())"
   ]
  },
  {
   "cell_type": "markdown",
   "id": "054ed0c3-aac1-4a0c-a707-385c97b968c3",
   "metadata": {},
   "source": [
    "- Nilai rata rata dari uang yang digunakan untuk mendukung project adalah 9121 Dollar\n",
    "- Nilai rata rata uang untuk project yang dibutuhkan adalah 45863.7 Dollar\n",
    "- Rata rata backers untuk suatu project adalah 107 backers(pembulatan)"
   ]
  },
  {
   "cell_type": "markdown",
   "id": "5e02b57a-7c69-43ec-8a37-27941de74b5d",
   "metadata": {
    "tags": []
   },
   "source": [
    "**Median**"
   ]
  },
  {
   "cell_type": "code",
   "execution_count": 226,
   "id": "98c0b047-7601-4e4c-8a4d-bd2a87dc0852",
   "metadata": {},
   "outputs": [
    {
     "name": "stdout",
     "output_type": "stream",
     "text": [
      "624.7\n",
      "5500.0\n",
      "12.0\n"
     ]
    }
   ],
   "source": [
    "#count median for pledged money, goal money and backers\n",
    "print(df18['usd_pledged_real'].median())\n",
    "print(df18['usd_goal_real'].median())\n",
    "print(df18['backers'].median())"
   ]
  },
  {
   "cell_type": "markdown",
   "id": "1e5077d8-3afd-4320-98f6-5fe18bf90320",
   "metadata": {},
   "source": [
    "- Nilai median dari uang yang digunakan untuk mendukung project adalah 624.7 Dollar\n",
    "- Nilai median uang untuk project yang dibutuhkan adalah 5500 Dollar\n",
    "- Median backers untuk suatu project adalah 12 backers"
   ]
  },
  {
   "cell_type": "markdown",
   "id": "d3ddf14a-90ed-4e3a-9d37-464cda32d111",
   "metadata": {},
   "source": [
    "**Max Values**"
   ]
  },
  {
   "cell_type": "code",
   "execution_count": 227,
   "id": "18218325-65ec-4905-b6cb-5bbbc1b706f3",
   "metadata": {},
   "outputs": [
    {
     "name": "stdout",
     "output_type": "stream",
     "text": [
      "20338986.27\n",
      "166361390.71\n",
      "219382\n"
     ]
    }
   ],
   "source": [
    "#count Max Values for pledged money, goal money and backers\n",
    "print(df18['usd_pledged_real'].max())\n",
    "print(df18['usd_goal_real'].max())\n",
    "print(df18['backers'].max())"
   ]
  },
  {
   "cell_type": "markdown",
   "id": "1cad5a49-3334-49e2-ae0c-de512a2fde7f",
   "metadata": {},
   "source": [
    "- Nilai maximum dari uang yang digunakan untuk mendukung project adalah 20.338.986  Dollar\n",
    "- Nilai maximum uang untuk project yang dibutuhkan adalah 166.361.390 Dollar\n",
    "- Backers paling banyak yang pernah mendukung untuk suatu project adalah 219.382 backers"
   ]
  },
  {
   "cell_type": "markdown",
   "id": "526a79a2-1804-409d-aea2-115730cce950",
   "metadata": {},
   "source": [
    "**Min Values**"
   ]
  },
  {
   "cell_type": "code",
   "execution_count": 228,
   "id": "9b22bec1-30d3-45c8-af71-727c30433b3f",
   "metadata": {},
   "outputs": [
    {
     "name": "stdout",
     "output_type": "stream",
     "text": [
      "0.0\n",
      "0.01\n",
      "0\n"
     ]
    }
   ],
   "source": [
    "#count Min values for pledged money, goal money and backers\n",
    "print(df18['usd_pledged_real'].min())\n",
    "print(df18['usd_goal_real'].min())\n",
    "print(df18['backers'].min())"
   ]
  },
  {
   "cell_type": "markdown",
   "id": "2561012a-37de-40ed-bc1c-6a112914763c",
   "metadata": {},
   "source": [
    "- Nilai minimum dari uang yang digunakan untuk mendukung project adalah 0  Dollar\n",
    "- Nilai minimum uang untuk project yang dibutuhkan adalah 0.01 Dollar\n",
    "- Backers paling sedikit yang pernah mendukung untuk suatu project adalah 0 backers"
   ]
  },
  {
   "cell_type": "markdown",
   "id": "fa3902a9-0ecf-4e67-91c6-29944a72fb5e",
   "metadata": {
    "tags": []
   },
   "source": [
    "<font size=\"6\">**VII.Measure of Variance**</font>"
   ]
  },
  {
   "cell_type": "markdown",
   "id": "c04de2bb-c751-45b1-b852-e03229dc8c18",
   "metadata": {},
   "source": [
    "**Range**"
   ]
  },
  {
   "cell_type": "code",
   "execution_count": 229,
   "id": "db82df73-b273-404e-8536-50b0a5fadaac",
   "metadata": {},
   "outputs": [
    {
     "name": "stdout",
     "output_type": "stream",
     "text": [
      "20338986.27\n",
      "166361390.70000002\n",
      "219382\n"
     ]
    }
   ],
   "source": [
    "#count range for pledged money, goal money and backers\n",
    "print(df18['usd_pledged_real'].max() - df18['usd_pledged_real'].min())\n",
    "print(df18['usd_goal_real'].max() - df18['usd_goal_real'].min())\n",
    "print(df18['backers'].max() - df18['backers'].min())"
   ]
  },
  {
   "cell_type": "markdown",
   "id": "9851d3fd-9ca2-409c-a9fd-910311b491c7",
   "metadata": {},
   "source": [
    "- Range dari uang yang digunaknan untuk mendukung project adalah 20.338.986 Dollar\n",
    "- Range dari uang untuk project yang dibutuhkan adalah 166.361.390 Dollar\n",
    "- Range dari backers project adalah 219.382\n",
    "- Baik backers, pledged money, sampai goal money seluruhnya memiliki range yang lebar, hal ini menandakan variabilitas data sangat tinggi."
   ]
  },
  {
   "cell_type": "markdown",
   "id": "25ba66c0-664f-4bba-b9c8-af25cbb0e431",
   "metadata": {},
   "source": [
    "**Quartil ke 1 dan ke 3**"
   ]
  },
  {
   "cell_type": "code",
   "execution_count": 230,
   "id": "be47b4a6-25bd-4dd4-8bd7-8779a8d688b6",
   "metadata": {},
   "outputs": [
    {
     "name": "stdout",
     "output_type": "stream",
     "text": [
      "0.25      31.0\n",
      "0.75    4051.0\n",
      "Name: usd_pledged_real, dtype: float64\n",
      "0.25     2000.0\n",
      "0.75    16000.0\n",
      "Name: usd_goal_real, dtype: float64\n",
      "0.25     2.0\n",
      "0.75    57.0\n",
      "Name: backers, dtype: float64\n"
     ]
    }
   ],
   "source": [
    "#count mean for pledged money, goal money and backers\n",
    "print(df18['usd_pledged_real'].quantile([0.25,0.75]))\n",
    "print(df18['usd_goal_real'].quantile([0.25,0.75]))\n",
    "print(df18['backers'].quantile([0.25,0.75]))"
   ]
  },
  {
   "cell_type": "markdown",
   "id": "0831c531-9afd-499a-9528-15a39c4ef32b",
   "metadata": {},
   "source": [
    "- Q1 dari pledged money adalah 31, sedangkan Q3 dari pleged money adalah 4050.\n",
    "- Selisih antara Q3 dan Q1 sangat besar, hal ini menandakan variabilitas pledged money sangat bervariasi <br>\n",
    "\n",
    "\n",
    "- Q1 dari goal money adalah 2000, sedangkan Q3 dari pleged money adalah 16000.\n",
    "- Selisih antara Q3 dan Q1 sangat besar, hal ini menandakan variabilitas goal money sangat bervariasi\n",
    "\n",
    "\n",
    "- Q1 dari pledged money adalah 2, sedangkan Q3 dari pleged money adalah 57.\n",
    "- Selisih antara Q3 dan Q1 besar, hal ini menandakan variabilitas orang yang mendukung cukup bervariasi"
   ]
  },
  {
   "cell_type": "markdown",
   "id": "0d707afa-ea02-476b-9f95-e3064d4810b8",
   "metadata": {},
   "source": [
    "**Variance**"
   ]
  },
  {
   "cell_type": "code",
   "execution_count": 231,
   "id": "65aac4cc-a626-431a-ab3a-0a27af1a848b",
   "metadata": {},
   "outputs": [
    {
     "name": "stdout",
     "output_type": "stream",
     "text": [
      "8339440765.50435\n",
      "1342766867335.4192\n",
      "831230.6601697371\n"
     ]
    }
   ],
   "source": [
    "#count Variance for pledged money, goal money and backers\n",
    "print(df18['usd_pledged_real'].var())\n",
    "print(df18['usd_goal_real'].var())\n",
    "print(df18['backers'].var())"
   ]
  },
  {
   "cell_type": "markdown",
   "id": "b367e5a8-e4ee-469d-883d-9341d601c614",
   "metadata": {},
   "source": [
    "- Nilai Variance Pledged Money adalah 8.339.440.156 Dollar\n",
    "- Nilai Variance Goal Money adalah 1.342.766.867.335 Dollar\n",
    "- Nilai Variance jumlah backers adalah 831.230 Dollar"
   ]
  },
  {
   "cell_type": "markdown",
   "id": "18946bd1-bc99-434f-81b2-871155316056",
   "metadata": {},
   "source": [
    "**Standard Deviation**"
   ]
  },
  {
   "cell_type": "code",
   "execution_count": 232,
   "id": "eac6102e-fa0d-4f3a-84df-c9ffc8c2e910",
   "metadata": {},
   "outputs": [
    {
     "name": "stdout",
     "output_type": "stream",
     "text": [
      "91320.53857432264\n",
      "1158778.1786586333\n",
      "911.7185202515835\n"
     ]
    }
   ],
   "source": [
    "#count std for pledged money, goal money and backers\n",
    "print(df18['usd_pledged_real'].std())\n",
    "print(df18['usd_goal_real'].std())\n",
    "print(df18['backers'].std())"
   ]
  },
  {
   "cell_type": "markdown",
   "id": "1dd8e8d0-d145-42dc-b26a-fe62ff5d2f32",
   "metadata": {},
   "source": [
    "- Dari pengamatan sebelumnya, Nilai rata rata dari uang yang digunakan untuk mendukung project adalah 9058.8 Dollar, sedangkan STD adalah 90.973 dollar, karena nilai STD sangat jauh dari mean,hal ini menandakan bahwa variabilitas pledged money sangat bervariasi.\n",
    "- Dari pengamatan sebelumnya, Nilai rata rata uang untuk project yang dibutuhkan adalah 45454.4 Dollar, sedangkan STD adalah 1.152.950 dollar, karena nilai STD sangat jauh dari mean,hal ini menandakan bahwa variabilitas goal money sangat bervariasi.\n",
    "- Dari pengamatan sebelumnya, Rata rata backers untuk suatu project adalah 106 backers, sedangkan variance adalah 907 backers, karena nilai STD sangat jauh dari mean,hal ini menandakan bahwa variabilitas jumlah backers sangat bervariasi."
   ]
  },
  {
   "cell_type": "markdown",
   "id": "bba5523f-a13d-4e94-bdab-8fd37ceaa66d",
   "metadata": {},
   "source": [
    "<font size=\"6\">**VIII.Hypothesis Testing**</font>"
   ]
  },
  {
   "cell_type": "markdown",
   "id": "e59be332-9506-4355-a6b2-cc78a1af8b54",
   "metadata": {},
   "source": [
    "**Sample vs Population Two Tail**"
   ]
  },
  {
   "cell_type": "markdown",
   "id": "e552f01c-8c6c-47dd-9086-f8b04603288a",
   "metadata": {},
   "source": [
    "Berdasarkan perhitungan modus di central Tendency, sebagian besar kategori yang di backup berasal dari kategori Film dan Video,\n",
    "maka saya berasumsi bahwa sebagian besar orang orang yang membackup ada di kategori tersebut, maka rata rata - rata orang yang membackup tidak jauh berbeda dengan rata - rata semua orang yang mmebackup karena Film dan Video merupakan kontributor terbesar.\n",
    "\n",
    "Maka hipotesanya adalah:"
   ]
  },
  {
   "cell_type": "markdown",
   "id": "0731cce7-f8ce-4409-90a0-541b233a9f30",
   "metadata": {},
   "source": [
    "- H0: Mean of backers from Film and Video category is = Mean of backers from all category\n",
    "- H1: Mean of backers from Film and Video category is != Mean of backers from all category"
   ]
  },
  {
   "cell_type": "markdown",
   "id": "5eb413c6-b607-4d29-be3b-f01fc60cd4ac",
   "metadata": {},
   "source": [
    "- Critical Value = 0.1\n",
    "- Confidence Interval = 0.9 "
   ]
  },
  {
   "cell_type": "code",
   "execution_count": 233,
   "id": "e909c984-c7e5-47d2-a861-0c2c221af733",
   "metadata": {},
   "outputs": [],
   "source": [
    "#mendefine rata rata populasi\n",
    "avg_back=df18['backers'].mean()"
   ]
  },
  {
   "cell_type": "code",
   "execution_count": 234,
   "id": "babde0fc-4029-4814-af68-b2793aa44760",
   "metadata": {},
   "outputs": [],
   "source": [
    "#create table for sample (film and video category)\n",
    "dffv=df18[(df18['main_category']=='Film & Video')]\n",
    "dffv2=dffv.groupby(['ID']).sum('backers')[['backers']]"
   ]
  },
  {
   "cell_type": "code",
   "execution_count": 235,
   "id": "6cf80e2c-1da5-4781-817f-fe27a5161cb9",
   "metadata": {},
   "outputs": [
    {
     "data": {
      "text/html": [
       "<div>\n",
       "<style scoped>\n",
       "    .dataframe tbody tr th:only-of-type {\n",
       "        vertical-align: middle;\n",
       "    }\n",
       "\n",
       "    .dataframe tbody tr th {\n",
       "        vertical-align: top;\n",
       "    }\n",
       "\n",
       "    .dataframe thead th {\n",
       "        text-align: right;\n",
       "    }\n",
       "</style>\n",
       "<table border=\"1\" class=\"dataframe\">\n",
       "  <thead>\n",
       "    <tr style=\"text-align: right;\">\n",
       "      <th></th>\n",
       "      <th>backers</th>\n",
       "    </tr>\n",
       "    <tr>\n",
       "      <th>ID</th>\n",
       "      <th></th>\n",
       "    </tr>\n",
       "  </thead>\n",
       "  <tbody>\n",
       "    <tr>\n",
       "      <th>39409</th>\n",
       "      <td>66</td>\n",
       "    </tr>\n",
       "    <tr>\n",
       "      <th>50831</th>\n",
       "      <td>505</td>\n",
       "    </tr>\n",
       "    <tr>\n",
       "      <th>53154</th>\n",
       "      <td>38</td>\n",
       "    </tr>\n",
       "    <tr>\n",
       "      <th>75626</th>\n",
       "      <td>3</td>\n",
       "    </tr>\n",
       "    <tr>\n",
       "      <th>113230</th>\n",
       "      <td>44</td>\n",
       "    </tr>\n",
       "    <tr>\n",
       "      <th>138119</th>\n",
       "      <td>3</td>\n",
       "    </tr>\n",
       "    <tr>\n",
       "      <th>182647</th>\n",
       "      <td>340</td>\n",
       "    </tr>\n",
       "    <tr>\n",
       "      <th>237090</th>\n",
       "      <td>100</td>\n",
       "    </tr>\n",
       "    <tr>\n",
       "      <th>254501</th>\n",
       "      <td>11</td>\n",
       "    </tr>\n",
       "    <tr>\n",
       "      <th>316217</th>\n",
       "      <td>39</td>\n",
       "    </tr>\n",
       "  </tbody>\n",
       "</table>\n",
       "</div>"
      ],
      "text/plain": [
       "        backers\n",
       "ID             \n",
       "39409        66\n",
       "50831       505\n",
       "53154        38\n",
       "75626         3\n",
       "113230       44\n",
       "138119        3\n",
       "182647      340\n",
       "237090      100\n",
       "254501       11\n",
       "316217       39"
      ]
     },
     "execution_count": 271,
     "metadata": {},
     "output_type": "execute_result"
    }
   ],
   "source": [
    "#view data\n",
    "dffv2.head(10)"
   ]
  },
  {
   "cell_type": "code",
   "execution_count": 236,
   "id": "c238f394-0902-4cd3-95a2-885b1c8d3686",
   "metadata": {},
   "outputs": [
    {
     "name": "stdout",
     "output_type": "stream",
     "text": [
      "<class 'pandas.core.frame.DataFrame'>\n",
      "Int64Index: 62694 entries, 39409 to 2147422173\n",
      "Data columns (total 1 columns):\n",
      " #   Column   Non-Null Count  Dtype\n",
      "---  ------   --------------  -----\n",
      " 0   backers  62694 non-null  int64\n",
      "dtypes: int64(1)\n",
      "memory usage: 979.6 KB\n"
     ]
    }
   ],
   "source": [
    "#info data\n",
    "dffv2.info()"
   ]
  },
  {
   "cell_type": "code",
   "execution_count": 237,
   "id": "cb4b56e9-5438-4f59-82d3-0dc03ee61a2d",
   "metadata": {},
   "outputs": [
    {
     "name": "stdout",
     "output_type": "stream",
     "text": [
      "P-value: 4.1427332884361185e-74\n",
      "t-statistics: -18.23622029153674\n"
     ]
    }
   ],
   "source": [
    "#perhitungan statistik\n",
    "t_stat,p_val = stats.ttest_1samp(dffv2.backers, avg_back)\n",
    "print('P-value:',p_val)\n",
    "print('t-statistics:',t_stat)"
   ]
  },
  {
   "cell_type": "markdown",
   "id": "5b02c556-d252-4898-aaa3-f89fc311fa78",
   "metadata": {},
   "source": [
    "- Nilai P value di atas 0,1, yang berarti mempunyai cukup bukti untuk menerima H0\n",
    "- Hal ini berarti bahwa rata rata Backers dari kategori film dan video tidak memiliki perbedaan yang signifikan daripada rata rata Backers dari seluruh kategori\n",
    "- T Value yang negatif menunjukkan bahwa nilai mean populasi lebih rendah daripada nilai mean sampel"
   ]
  },
  {
   "cell_type": "code",
   "execution_count": 238,
   "id": "cd02e377-060d-4f39-afe0-58eed17c61ec",
   "metadata": {},
   "outputs": [
    {
     "name": "stderr",
     "output_type": "stream",
     "text": [
      "C:\\Users\\User\\anaconda3\\lib\\site-packages\\seaborn\\distributions.py:2619: FutureWarning: `distplot` is a deprecated function and will be removed in a future version. Please adapt your code to use either `displot` (a figure-level function with similar flexibility) or `histplot` (an axes-level function for histograms).\n",
      "  warnings.warn(msg, FutureWarning)\n"
     ]
    },
    {
     "data": {
      "text/plain": [
       "<matplotlib.legend.Legend at 0x1f7a4a8c2b0>"
      ]
     },
     "execution_count": 274,
     "metadata": {},
     "output_type": "execute_result"
    },
    {
     "data": {
      "image/png": "[encoded data removed]",
      "text/plain": [
       "<Figure size 1152x360 with 1 Axes>"
      ]
     },
     "metadata": {
      "needs_background": "light"
     },
     "output_type": "display_data"
    }
   ],
   "source": [
    "#visualisasi\n",
    "dffv2_pop = np.random.normal(dffv2.backers.mean(), dffv2.backers.std(), 70000)\n",
    "\n",
    "ci = stats.norm.interval(0.90, dffv2.backers.mean(), dffv2.backers.std())\n",
    "\n",
    "plt.figure(figsize=(16,5))\n",
    "sns.distplot(dffv2_pop, label='Backers (Population)', color='blue')\n",
    "plt.axvline(dffv2.backers.mean(), color='red', linewidth=2, label='Daily Income (Mean)')\n",
    "\n",
    "plt.axvline(ci[1], color='green', linestyle='dashed', linewidth=2, label='confidence threshold of 90%')\n",
    "plt.axvline(ci[0], color='green', linestyle='dashed', linewidth=2, label='confidence threshold of 90%')\n",
    "\n",
    "plt.axvline(dffv2_pop.mean() + t_stat*dffv2_pop.std(), color='black', linestyle='dashed', linewidth=2, label = 'Alternative Hypothesis')\n",
    "plt.axvline(dffv2_pop.mean() - t_stat*dffv2_pop.std(), color='black', linestyle='dashed', linewidth=2)\n",
    "plt.legend()"
   ]
  },
  {
   "cell_type": "markdown",
   "id": "6047a159-1bdc-4117-9c38-eb31ea97838f",
   "metadata": {},
   "source": [
    "- Berdasarkan gambar ini, nilai mean populasi lebih rendah daripada nilai mean sampel"
   ]
  },
  {
   "cell_type": "markdown",
   "id": "1c0fb844-2e23-480b-bbae-dad9161ee920",
   "metadata": {},
   "source": [
    "<font size=\"6\">**IX.Pengambilan Kesimpulan**</font>"
   ]
  },
  {
   "cell_type": "markdown",
   "id": "aeaca8a3-61c7-4dbf-9713-d894da55acf3",
   "metadata": {},
   "source": [
    "**Central Tendency**"
   ]
  },
  {
   "cell_type": "markdown",
   "id": "7b4a1ba2-52f9-4296-bb90-2a1deabad15a",
   "metadata": {},
   "source": [
    "- Kategori dari project paling banyak muncul adalah kategori product **design**\n",
    "- Kategori utama dari project paling banyak muncul adalah kategori **Film dan Video**\n",
    "- Status dari project project sebagian besar banyak yang **gagal**\n",
    "- Negara dimana asal project sebagian besar berasal dari **Amerika Serikat**\n",
    "- Mata Uang yang digunakan untuk memberikan dana kepada project kebanayak bermata uang **Dollar**"
   ]
  },
  {
   "cell_type": "markdown",
   "id": "43a22850-717e-4e13-8294-b28c3fb9e85b",
   "metadata": {},
   "source": [
    "Berdasarkan pengamatan di Central Tendency, fitur usd_pledged_real, usd_goal_real, dan backers memiliki variabilitas yang tinggi, karena:\n",
    "\n",
    "- Selisih antara Standard Deviation dan Mean sangat besar\n",
    "- Rangenya sangat lebar\n",
    "- Jarak IQR(Q3-Q1 sangat besar)\n",
    "- Banyak memiliki outliers (terlihat di boxplot)\n",
    "- Perbedaan antara Q3 dan Max Value sangat besar\n",
    "- Perbedaan jarak antara median dan Max Value sangat besar\n",
    "- Bentuk dari distribusi data ini adalah positively skewed, karena nilai mean > median\n",
    "\n",
    "Dapat disimpulkan bahwa:\n",
    "\n",
    "- Pada platfrom kickstarter ini, banyak project - project, namun hanya ada beberapa yang berkualitas.\n",
    "- Project yang berkualitas ini mendorong backers - backers untuk mempercayakan uangnya dalam jumlah besar ke project tersebut.\n",
    "- Project - project yang berkualitas ini juga membutuhkan pendanaan yang cukup besar.\n",
    "- Kemungkinan besar project - project yang berkualitas ini ada pada kategori Film dan Video"
   ]
  },
  {
   "cell_type": "markdown",
   "id": "3d961d83-7943-4952-94b6-55b22b40ed75",
   "metadata": {},
   "source": [
    "**Hypothesis Testing**"
   ]
  },
  {
   "cell_type": "markdown",
   "id": "165f5a7b-5c69-426a-9502-08aadcc8043d",
   "metadata": {},
   "source": [
    "- Nilai P value di atas 0,05, yang berarti mempunyai cukup bukti untuk menerima H0\n",
    "- Hal ini berarti bahwa rata rata Backers dari kategori film dan video tidak memiliki perbedaan yang signifikan daripada rata rata Backers dari seluruh kategori\n",
    "- T Value yang negatif menunjukkan bahwa nilai mean populasi lebih rendah daripada nilai mean sampel.\n",
    "- Berdasarkan gambar ini, nilai mean populasi lebih rendah daripada nilai mean sampel\n"
   ]
  }
 ],
 "metadata": {
  "kernelspec": {
   "display_name": "Python 3 (ipykernel)",
   "language": "python",
   "name": "python3"
  },
  "language_info": {
   "codemirror_mode": {
    "name": "ipython",
    "version": 3
   },
   "file_extension": ".py",
   "mimetype": "text/x-python",
   "name": "python",
   "nbconvert_exporter": "python",
   "pygments_lexer": "ipython3",
   "version": "3.9.7"
  }
 },
 "nbformat": 4,
 "nbformat_minor": 5
}
